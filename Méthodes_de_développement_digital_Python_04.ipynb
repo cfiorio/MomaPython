{
  "nbformat": 4,
  "nbformat_minor": 0,
  "metadata": {
    "colab": {
      "provenance": [],
      "collapsed_sections": [
        "5vnoAdOUOiEt",
        "XhlU-sfOO2Ql",
        "Tug6_C5cO_fk",
        "PX9z9Yw-WLFU",
        "LIC2DIR9WWoy"
      ],
      "private_outputs": true,
      "authorship_tag": "ABX9TyOSyeeOBp/rKU+omxyzquif",
      "include_colab_link": true
    },
    "kernelspec": {
      "name": "python3",
      "display_name": "Python 3"
    },
    "language_info": {
      "name": "python"
    },
    "gpuClass": "standard"
  },
  "cells": [
    {
      "cell_type": "markdown",
      "metadata": {
        "id": "view-in-github",
        "colab_type": "text"
      },
      "source": [
        "<a href=\"https://colab.research.google.com/github/cfiorio/MomaPython/blob/main/M%C3%A9thodes_de_d%C3%A9veloppement_digital_Python_04.ipynb\" target=\"_parent\"><img src=\"https://colab.research.google.com/assets/colab-badge.svg\" alt=\"Open In Colab\"/></a>"
      ]
    },
    {
      "cell_type": "markdown",
      "source": [
        "<p><img align=\"top\", src=\"data:image/png;base64,iVBORw0KGgoAAAANSUhEUgAAALMAAABACAYAAABREkZEAAAACXBIWXMAAC4jAAAuIwF4pT92AAAnpklEQVR4nOxdB1QUydbeXQNmxUwSAXPOrgnMmBAziqiISjCgmLMiiqKIObCYQIK4ioqYQSW4IgoKLgbWgIpKhiEzhPnv10zNNuOg6M4+3vnfeM49TFdVV1VXf3Xru7dutT+JRKKfFKKQ/w9S4R1QiELkJRXeAYUoRF5S4R1QiELkJRXeAYUoRF5S4R1QiELkJRXeAYUoRF5S4R1QiELkJRXeAYUoRF5S4R1QiELkJRXeAYUoRF5S4R1QiELkJRXeAYUoRF5S7oKFCQnNMo8678+5ccNM+DKme1FGhnJFd14h/51SXFz8M/7m5+dXiYiIaJOUlKT89u1b1aCgoK7x8fEN3r9/3/TPP/9sKS4rt3bLXTDvj/vj4ofpixJGjREljp9YlDzbLC5t7fqATJfju3Nv3zEuePOmY3F2du2KHkiFVKzk5uZWDQkJ6RoeHt7ujz/+6ETgrf/y5cvmb968UQO4CcTasbGxKnFxcU3u37/fOSwsrANJezYB/omUu2CWu4dtwsjRAHKJGI4XJYwZy4E7YbSBKHHiJGHyXPO36Ztsr2a5um3LCwmZUPj+fevivLzqFT3ACvn3JSYmRpNA2ZEA3CUzM7OGUCisnJqaWjs5Obnep0+fGkIbv3v3TvXDhw9NPn/+3DAlJaVuWlpabYAY+QTsTriX8hr8aB/KXTB9y9bLHGgZmKVl3ARR4thxJQAfKQb4ZKPcFMv5Melb7S9keXptyHvwYHThp09axUJh1YoefIXIR0jzNnr9+nUzohPtcJ2RkVGDtLBqVFRUC9LImqSFVQnEKgB4dnZ2dYFAUIsohxqBu8nz58+bP336VAe/Ka9aYWHhL9DWdI8aJsH39qVchaBdUyysXgOsZYL5awAnYEOrA+hJRtMyUxYu+lPgsOtM9rnzK/IjIoYWJiaqiwoLK1X0i1HI90l6enqtBw8egEo0BIhfvHihSQDVJCDWKSoq+gVl7ty50zcwMLA3u+fjx49N7ezsbBITE+vjmgBciTh1XQK1Nk0KNaqnJl3Xh5YuKCj4LkyUq1DBu/dtEidNyefA+T1gLgfAEw0MRUnTpqelLrGJEDjtPZVzyXeRMOrpgKKUlCYiORoHCpGfgEI8e/ZM5969e11J49ZMSEhQjoyMbEEgrAe6QVq6PStLRt+vFy9e1GeG3sOHDzvb2NjYEsWow8Ds7e09lrS5Bvj1kydPWtIkqUmgbwQtDb5dXj5drs7nBYdM/CrFgBAoOf7MOLRUPgdecf4XGh7gHj6iRKDBSyhKdqrNskcZBw8dzbl2fZ7w+YteRenpP8ynFCI/IY7bCGCG5vzrr7/UX716pcYAd+XKlUH29vYLmVYFDfH19R0GCoFrAmkTMhB7kDHIUU2iGCouLi7TCMCc84Du+4Xqbk4GYiPU8ejRo/agJ3IDMxl09qWMP2mgEn0QbLP3yb1xwxSS6ezilEDgluTT78zfXJxYPvHvC7iH3ZtkMjMx0+XY7vywh6OEL2N65D9+MoQ49sbkOfNi44cOL5kABobFGWvX3/kc90HdZskSl/lWlq7bt9vbskGCkHGhaW296KSlhYXrb87O1kjbtWvXhvlWVq7WixbKFOTR0tieeJrWwgXzJemLSuTEtq1bbUlD9GFtkEapu3LF8sMLFy6QWZ+VpYUraZ+eKLt1q90OK+rn6lUrD2RkCGR6ei5fvjzBwsLcFX2mpbW/rDLJSUkNly1b6oy6du3cuUncj/orli8/WmY/qOzTp1Gdabn/edOmjY4L5pd+tsXW1i6OjrtW0/LesbwgBmBhyEEjZ2Vl1SCtqUHj1pQ0s0TJ4H0cPHhwNsYJGpwoR116L40J8BpEQzTAl6F1yTjkqEhwcHAvHx+fkbzxrUPlm2KS4D7UDeMQRqNcwJy+2fba1zQzgE78d7XkHhrAtNVr73LamCRtzbo7It5SkeV1Zg3j0KnLV4YUxsW1lNVukSCjvmC3kyvT6tmOu71evH7dvGGD+qLatWqKataoLtrt6LiGlY+MfNK9Xt06oiqVK4mmGhldQVr/fv2eVq70i6hG9WqiOrVrierWqc0J7kUa8vz9b40gAPauVbMGl4e6qylVFdWopiRCGrVXuMXWdhuWStJKKupqqrkoU0dcji8/0ZB6eXkZo+0e3bu9q1a1ikizmUZGQkJ8I1nPSPVuRx/QZ1fXU3NklYl9+7Z50yaNi1CXnq5uFNJIczVTU1UpRD9qy+jHz9QPP7/L4wCuDu3bxeN58fx4ZgiucZ+qikqW6ynZ7UoLNCQ4MlxsxG9VAWSk37p1qz9NxO6sHEBMQG8G6gE3HI2ZMgy8lJSUGjQJqhOY68NVJ85XZVoc2tnNzW0iODiuwb9BPXJycpSo3S7/GMzFOTm1kueax37N+OPAfMZ7A/8+bKwkTpiUBxHGxHQrpendPTaCUlC9b4qSk1Uks5oMwfxH4UP44C4uKKiStm6DPzS08OIlm5h379Q01NXymjRuJGrcqKGI/gqvX7s2CmVJE3VVadqkCICcOWOGD9LMzMy8evbo8axv3z7PtLWaZ+I+AoaIgPYGacijgepDy1mvRg0bcHW2a9smYazBmLuDBw0Mp/oKkVZfuZ7o3r2QAakpKcotW+ikoqyOtlamgcGYkLE80dcfFnL37t1B0GL9+/V9oVyvrqhN61YJiYkJMjXLdnv7LWySeXi4z5JV5l1srKZWc81M1DV82LAwpBEgNFroaGeI+5ExVqofI/T1Qx48CO0LYNGzvm1QX1lEk1CoO6D/k4ED9cK7dukSi3uhGOj+dJocat/CAoBJGrM5ac9apGWb8fNu3rzZH2AEPXj8+HFLGIG5ubmVaTJB28JVV4nAXCsvL68yAVqJ8iohjYBen8q3IoOwHoFXG7SDX29UVJQOfNfwloCT/yMwF7x92yFx4mTh14w/WWCGZDr/to/oxR7pdIA5fsgwUc5lvwUsLe+P+4ZJxiaJ3AowaUoGP08YFaVL6UXFUU8Hxbx924yBGaDEy2jbpvUnWr6akzZox8A8Y4aJD9MSNIBVIFMmT/KD5qYyxQAvS8dSTEunLl4u7jWfN9eDe3bSGHZbtmzFPdBiOx12bBQIBLUBZqSN0B/+sKxxAyf8T4AZ/Rg1amRwWf0g4NQEmHFv504d4whQ9QhgP4MGjDMcG4B0SECAv/7XcABDjIyz1tCScLvBkxEdHd1CqowmiTp+E/Bq0rj+RHSillhqgzLAcwEw01/QDJSrgdWD6tQiWlFq9Tp79uxo+KWpHS20S3SjI02Wxj8M5rzAoKnfMv5KgZk0ErSpWKvXhHC/QfjFFi2BeRPx6OLCD3GtuLzc3BrwRzMejVUgaapxRmFCggaXn51TK2XR4ihRcrJ6zKtX2gzMEAAQL5S00Z0w0rCkfQr4YObLVKMpvgzMNHhd+Xl8MBPvdWPpzs5HFzDqsdPBYQMDMyZR61YtU+eYzfacY2bGyayZMzztCP3iSfQfATP6QfUnsT6wfmzbtnWjNJi7dO70AaBAOibwtKlTL2M8sOoEBwfpfQ0H0JrgyfAJQzPfuHFDb+rUqYcdHBwWUJ3VGMclLfoLaeWa0LqrV6+2bd269bNTp04ZEZhrwvVG4K29aNGiXW3atIk+f/78aCgMohK16e9P0Pb0XA3hi/b29jYg+jIAv0FnMBmwa0j5Pw7mzBMnd33N+JMF5myfC0sZiLmBy8hQzj77u41EW5x2t02abJRflJ7GdawwIbFZktG07FLan4xG4dOnuhyYhUIlwZ69J0WFhZVjYmJaAsx4AcOHDX04dMjgMLwoLKMjR+jfI36aWx4wE18rRX0YmAGOfn37RNvabra3sVlylFEKaZoB6oGyVatUlgj4ct8+v774T4K5rH4M6N/vCR/MGB+MDVYn42nTLtLYPWjSpFEx2u3dq+dL0rR1y8IAAaomceLO+IvtaPHzVaYx6+7n5zcYO3hk4KlTHVUJ2FVJA8Nv3KpmzZoZ6EvPnj3/oJWqMmlYbSqnqaSklMP1ccCA2yhLq0XtjIyMaiRVnj17pgVjj7nuWFvUrhY2UkJDQzuCf/8QmNPWb7wl0ZjlpBnpmzb7wxshmRDHjjulb7G7JAGzu8dm0r7FhXEfW0g0s9WCFwmjeZp5ytTswvh4TW4ypKc3zHI7zWk8WsZaAcwA5QyT6ZefP3/Wll5qMl4oBNSDy/tBMFMeB1yAQokMrlo1q+O6ePPmTTtgANJAN2WamehN0mLrRc6Lra2PkjgvWDDfmQzS1bLAnJSUKNOtyAezp6fHzB/RzMTx41kfWD/2ODkt44MZ5QD8kmeqwU1+PC8ZyI9pRev1NQyQTdEBmxnwJ4MT8/NAEYjztqB2qkDLkhZtTKCu4ejoaA3AQipXriwMDg7+FXx7586dNiy9atWqeWR4YwtbmZ5HGW45GIlswvAFWh0gBu0A4L8bzMVZWXWSzeZ+QBzGd4F5q70fpeeQIdei4K+/utJkKBA47PTigbmEM1+7Po+l5d0PNUgynl7CmcdPysk+77OU5cFll33hoo00mEnL3ELaBR+fSfA4MB79T8AM6dSxw8epRkZ+042nXVy9auWewMC7g1g50kJNeZw5rKyxk+bMHz/GNcHSyxdpMLu5uc6WLgM6IA/ODPDCAN6wft1uPV3dSExY3Ou4a9fabyk0AmEzRLvRqqiRmZlZnSiHDvM4gFrQmDQg2wNAbgTAgxd37949lIEWYmVltY9A2qJr164P+elLly7dDmMR9IIoTAMC9M8ALuI2CLQtPTw8Jhw7dmwq2sYKAF5ObdT/bjAXvH7dOXHCpMJv7ep9AWb77ZfgrYBLLnX5yvv4Ldi5y4MPZqSlWFi9hNaVzPKERI38sDD9gtjYdpIJRRoubdWaoPzwiOFlgRlCXHUrQPFPwQxQWZjPcy9rTBiYURbgGDVyRDBJEJPBgwYG+/r6GjBvBkCkpqpSQPQjmpb+SEi/fn0ix4weFUj8sjrx8M3oNyYiGWjvWRlIzx7dIy/7+homxMc3/po3Q1tbS8DvA2TI4EHB/v7+w6Et+ZwZ9z59GtWRxjAT2hpuw4iIiG5lPS9iKmB4waUGIMGAPHr0qAlpXou7d+9C26oTn62WmJhYG1wa4L5586ZepUqVCsSALcZf4sh/Xr58edgvv/xSxE9v0aLFC4AXxh/uRz0E7loE3maXLl0aHh4e3hEBSqA4aB+GJ1GN9jDcvwvMuQG3TcQhn98G8+/nJH7m9B0OPpyGhTtPvHUtcNwtMaokfmaiFWlr1/sXxic0k9V+kUBQX+Cwy4MoR05RSgrn0yQjoTVeIJZLssaDJJpQmF+FDBrf6tWUuDwjoylXpOubMH7cDeThxdLS2IOfR8vgwNq0/IJekAF1rqwxIRCpEBByAcASv60S549mghd05MiRhShLYIyFT5f5tZlUr1ZV1ExDXUgAqWVPlhp8zMxjwi+Huk6eOGFBmqgRXITwH/P9zDB2Jf2o9mU/3N3dzaDZO3ZoH497yWBNIcBw7i0np90r0TekE9WISk1NkRmfDlpBmlgLvJWAqwFaQf1pSMqgHdxo2DhBGlEAJQCZxqcBtDDar1u3bpqlpeUe/B4/fry3ubn5QfxWVlZOpt/7mHY+d+4ctrNViW7UpwleBfWBX6Pv/L4weoHwUkyy7wIz3GqIgPsmmLED6LDz97zAoOmQ1GUrwqV3ANNWrrrH8tO37zjH3wFMnjX7Y9Ypt235EY+HFrx61UUYFaWX7X12DTR3gv5IEdUXJhIHrgBM5vPmus0wMfFydCy9RMZ//tzEysrymMl0Y699+/YulX4ep92Oy3EfLH7s+PHzaJK0MTWd5WViMt3ryOFDC8saE9JC9YiTusw2NfUyM5v9haDtgICAwSi7bu2a3bNmzvyizGxqh7j2b6RdlC5euDAR95RVV2BgoB48KJaWFidnzjDx2mJruxV1k4ZssGC+1Yky+0HPQatNf6wQK1Ys3497l9rYHCLQcSCgtquuWrlyj+msWV5kEJ719781WNbz4n7ESGDHjjRkU34etCWBUIW0ZXUCfQME4GMThP69B0iHDx9+Be64evXqJe/bt89CU1PzDdLHjBlzgYDbiNJTcD1p0iRP0BMAGn5nqlcJmy7oI789UA30A0agrL5+Fcxpa9fd/ZbxVyq+QrzjJ5NjI/6Z5UtvwCCvZMsa10VcXeIYDvzNOHDQ5Wv9VMi/J9ipIxoAKlGHGX80SXoSfcFWtTLiNHJycqpg+cfGx8mTJ42ZxqXfJihPRp+1vb39Upbu6ek5GelGRkbuuK5Tp04qad0W2O0jINfAxgroC61c8HDUCgsL6ybuizoADj+3rLjnMh+iODOzXvLsOZ++ZfyVAjNimQF+WbuF/HxZdY6b8HcwEm8C4Trn6jWLin6p/6uCmArEU/DBTJq6B7g4AzNp+6rY/YMhB20MgDZu3PgTQjlRHkbdoEGDbiJdTU3tHepCup+fnz4DOAF+MSYDIuZANRiYiU7UgseDgZnylIjitKSyX9CiMh+iICamO6clywNkAmeKucUb4r+3ISlW81+WAjT9Tpm/4AXLT55nEVsK0ATkpGnTMxDEn75tu0/qqtUhknzD8cXC589/Zf1CfEBQUNCA27dv69FsbsvvM3jf3Tt39JBHL0FH+plooOr4+l4ae+HCBUNaqnp/7SXSktbK+8wZY+ejRxeRRT0zMvJJZ34+8UUNtBMYePcLuUN9IE7OvQCy4NvfuXOb6xNpkybS7Tx48KAX+kzGlB5podqc/zYkpC+uZdWNsgAOdvBKnjVAj8Cmya8TVAztQYh6NSVQNbhTRl+5/lIe8eLWssYB7kj4mMugGQi0B82ohngL4rIdqlevngVwzp079wgr9/Tp07ZKSkq5SF+4cKFkRxhGJQxApPfq1eseqAZoBo0DRzP4QWQQeFXg5cCJFll9LfNl5t68Nbs8xp/EAPQ+u47dW/g5XjNpxqwEDpAE5ORZpp8KExLVJQ/h4VnqCBbawWFZll+UkVEv2dTsE2hH8kzThKJ0gWRJgQGo0qRxAQwmHW2tZD7IAgL8h8EYghG4ds2a/dLPdOjQwSUweGBotW3TOgEvWboMJoT1ooXOsPZRFxdQVOIlEU6cOOEqLXGdUG7/vn0r0Q68FdKCe0aO0A9FOZPp0y+yoB4yQG9heWZtkdWv37BB/QK4yWCUhoc/6kWgqaut1TyVbQRJC/oSev9+75CQYF3m0uvevVsMgUmV1XvsmMs89A3i6eFh5uvrawhjT1Z9EORZWlickoUDuMywYYF+wwBk6Rg78F6ADv5hyKZNm9YBmPBY0GTsx8quXbt2M9Lh4YBW59e/Zs2aLSyPJk1PuCNRF4KM6F3rYIKgHRiDzAAkTd0OfL3cYCZwHSyP8SfLNQfJ8btqyWKbc65dn8vPy3L3sJOAGbt+Eyblww1Yqv1jxx1xgDZt9ZpgfsQdc83BlYUXjsAZMoa4JYe01FD2wjesX7+31OSk5YnKRiEf7juUOX78WCn6gkDzcYaG/mxTASBTU1URwoXFou38/C4boOzBAweWM1cg21pngn6NGT3qD5QjA9AHE4+5DN3cXM1K2sqoNaB/vyi0wYKmIiLCewLMrVq2SMJ10yaNvqgb5R+EhvbCbiR7FvRryuTJVxDNhrpPnDg+l3k5znh5zSYwjwOwcS/bWIKwnU3kWZibu8nCAU6QwDWHDQucJIE23b9/vylpXsfg4ODe8GaQtqxG/a7Ro0cPzrcMHzPTqrhPR0fnJdsJlD49Aq8INk+QP3/+/L3YBaSJUgvGIIL2SZPbOzs7m2AbHhOH3nUdHIBlz/ptMBN40latCUkYY/jDYBYVFFRJXb4iNG3l6hBsQ5cFZoA9ffOWq9KnSuBrJs1cmHHk6CF+Oh/MDJTzxIFBtLwPKQvM169fG8WAgxfagH4PHTL4IWkCyaCQtl0GIDdqWF/UoX27D97eZ4zpBbYNCAgYNmniBL99e/euYGUZmAFcp92715L26sSEltVORFNal4B5xgUGZrRL9caBa+7e7biGPxmkwYx6+/fr+xQrAb9uWolwYLTmXfGzMmCiLgRFSYPZ1dXVkvhlY3//W/pEO/QdHBw24D7Ubzbb1AdpyHsWHd2hLMUG3gxuDB4LcNrZ2S1etmzZBuK8Q7Fhgg0VxCYjDgOg1NXVvY0Dq+DMzB0HOXDgwBe2D7wlenp6/oxPw3MD6gLNizzUAT8zYjPg+gPV4MdPfxPMONGB5b28xl9ZUXMI/Sz469UXcailwEzGHiLmxO02zLt3z5CVS9u46WbOlatWZYEZAIBAM7m4/DY/NPR+n7LAbDLd+CLSEZQzbpzhTbGWKqYJwLmkwFUHDdR7jHSqswAUAOlwzsOHipcDSU9PqwMeyQfzVju7rbTsD8DSDyFOrysgfs4HMwuKQv0TJ0y4RjQnEeBGmiwwo1yfX3s/Q12SegMDdWn55TaUbgeUrEJMw4pjNApv3rgx4swZL2MG5hMnTizgjwM91zD0GXm2tpt3lgVgvtCy3p6/nY3f7IwfBGGa+DtnzpwjDLgEzPcqKiof2HWXLl0egmPLqt/FxWUWK3flypXhpAjU2RlBJnDLYSLhcEB0dPQX9lCZYBY+f9Gblv/ichl/0mAuLv4FZ/hK1UkPnh8ZqUe/fy4FZgMyDBcsii7Oy+MCR/D9jRRzy1fFefncdf6j8GHCly9LcSwGZrzAjh07fGyu2SwboMAO2fr163YgBFQazIjfUFdTzeF29yzMT9PS1olAwEXXmZnNPoMypAEaEdCTAaIe3bu/AS1B+oIF80+10NH+1LFD+7h2bdvE6eoOiIR/+PDhQzZMswJUACwTcNAb16+PZmBGO9raWpkD9XQfM56KPmMnsW/fPpEsbkKaZkD49YLvTxbvejJKhTJdu3aJVVVpWoDrLp07vV++fJkTm9TSYCawjGZg3rhxg1N5wAyjiwUa4eApS8cKQ5NDF9oS2pS4bWMYcvztambcERi/iLfg1V/H0NDwnIGBgQ8plx7YriYtPptWjT5QIFA0CAPFx2QQJ4L45nKDmTiueXmNP1maWWC/40J+eMRQdp0XFDxZsNvJU1ozc/ed91kmngQ/Z+zddyLJ2CReGB3dV5z2k4inAfhgBkDmzp1z9sjhw9b4XcIxGxdhq1oazJs2bnRAGr3gYvfTp00T4uObAFgArmYzjUx6EVr0oupAWyKta5cu79i5sxkzTC4RkIpZgD6VSabBrMbADK2K4HgCeiITAn8iaAADM8q1aKGTQdp0GOV/xkREGtGW5UsWWx9h/ZcGM7bB+fXShEi0tLTw5IOZ07CbN+/csH7dLvzGfTQGBYx6yAPM4nFvDo0cGxvbBLEXpCFV9+7dO9fJyWkezvlh84S0dkNw6uPHj88kenHY0tLywOnTp6cirTxtEJ1RhXsOv7HL6OHhMT4wMLAXtdUYNANUB0eqyrpfZmLGwUPO/wTM6bZ2N1KsFkQX5+dX4/zVpmbvBY67vUuBWX8Uzv4l80+aFGdn1y3OyqqL+74yqBIwz5w5wxdL/pw5Zl5MS7KXyMBMg6DcuVPHDwAQ8ggoaa1atkxtpqGeCyCirP22bbYoqz982H28aNKURefOnTMSD2rj169faxmONbiFNonzJvDBjLTTbm5zAH6eSLZaGZgRfkkvXcXN1dUMBteQwYMewYixsrQ8KQvM0MSDBw18iMAefr3MG8JoBurevHmTIzYTRo7QD2H8/N8AM06EYMXCty4ANuLMQxCrgXx4G2AMQkOXt04mOKHNDrESZWnNByy0MKLoMCGw8wfeXH4wk4bkgoMMymf8yQSz/fZLOOaU5eG5MfO3Y06IkCOte5oP5vjBQ0U4ef29D84H8wwTk8tIowGt379/v0i8JGkwE9BmoyzjrCxUlEXI4Xe3bl3eIsDcjcrChSY+ipS6Z4/TKhrAvlevXjHo1bPHC2hm0pClNDPSbJYs+c3T08OUibv7aVM/v8vjpcFML1oHXHO68bQLOFqFfAvzeW6ywIx6u3fr+trD3d2UXzci6+I+fFAjjTVQYh9sWM/5bmm5b0Erx2fmsZAnmCHYqia6oCV9bApA27JlyxKib23EgNSB1+Fb9cHAQzwGPi8AzStWPnXd3d3H01hxrlycE4TdQhOpLSjH1+r7IqEoNbVJ0vQZqeXe+fvbz7xeAubtOy5ymn3CJGy6FHNb0vv2/x1oBM08akwRGYfcaY/ifKESTYCL+LRA6vIVj1KslzzKvX3bpCwww10G0JlMn+7H0p88edyFeHMaXjA8EgAzBou0bSjAgnt8fM5PCQsL+5UJTlogj3NhnTljAneSufm807i/vnJdTusCGHj5ABfS+/bp8wwa9dDBg5znA5OEBQn9fbi0CgLeXzMwoxxNwHxairn4bXbaA2I+b+5p3IN2GJiJpqSwScevF4LDr9euXh1FHLYf+oW6yVaQUKqrV6+OoYkhxIREHi35peJMSJuOwXNxYySeBOUVTGIat07wAIFWsAOtNHZjjI2ND+A0Cq5xIhtuPGw749wgNlxgvGH1APBxlg+RctDwOBiLrXD2IUUIysFjgQmDLW4EFZFS6SQdePRNMCPQh8CczG0/jxzzd8zE184AUpkst9P2RCmUIelb7K5yMRjie8RRc94sP/M3l/0E3PCijIz6uM4LCZmYMIrKY7sb398YMUqUunT5Q1mf8YL2gUeCwCmYN3euNz+PrPjpzTU1U1WbNhXsdHCwjYqK7ASAE5AExtOm+krXhaWaNGY68o2mTPEDmAFUcNke3bvFEFCLxN4NUft2bT8uWbL4CL1EznHvfPSoNRldAh1t7S+E6hSMHDmC2zSxtDD3QDlwXnqxXxhBCO7Hs2hrNRfQhOwGY6hrl85vcC2rbjJkBQH+/kPIEPoV7aBuO7st2/l1Ou7auQ7PhDzirPP4eTdu3NBneVu32tl/D5jFnxpQwacGwJ9BK8BncXqEwCY5hubp6Wn48OHDjvApY9sZgIZ7j/6qIxgJO4lIh2HJKVBarfC5AQJ/G+Y/hhsQWh6gxgcYpb0b5QIzfMLgsfA+ZF+4uIQMt9Op1kueJE2bLuCAxj7Sgu1qBvCS7ejM5NlzPkOSpkzNKwV+5BtNy5HkTzXO4sqbzf3ErkuVHztelDxn3juc/ftishFn/BgXh/NmGqQBvjiKREaC6of37zXIoKuL7WFsO6MsDLwvViEaxI8fP6rFxX3AwKnz3U2ICXj8OKIrWdSD8R0MaquUbxN1o17cJy2Urp6QEN9UrKUaoBy1o87f/WMCisTqQUA/+vDp00dVWfWK69aAhoRHBe3gmjRbqVPLsCNYWYSZ8vNAp5Au677yCvzKCLQH18UHYAA8lofJ+Pvvv49hmyb4AAwEvwmQDa5fvz4QkwJjcf78+ZH8fpGdMgpUAjuOADKAjY/AyAr3LB+YZQk1jO8z5z8KH5599vdVgh0O3ikLFkYTaLMkH0pkAUJ8kEsFEnHUBYLf0td8TT96bMlGyg8MtEL+fQEQ4evF9+DgOybtWQ/BP6AX0KTs0CkmJg68EoD1cA33HHH4qYwuANhBQUGSI1sIVALfRuQczgEi9JQmSzO5fp5LlhDPrVr48ZNOXuiDMTjvl2637WKKhVVM4qQpuSXfkfsGuL/BwYm2bK3ol1bms+eV7W35XxJQDXBZxGngNzgutCqMPwAZ/mEy3CTfnUM54vDToIVxDf6M0E/Ef4BfYwsb9cDVR1Tm3/lwYrlfcm5u9YL379vg23T4RnP6Jttr+GYzvt1cKrxThjYurZkNRHn3/hhfRhs1YaRyf9PSGuPkNq0amtg+59x8NIiFiYka9LcSPp+Le+ivNrw0Ba/fdMp//FgP94vovvzIqEHCmJju3OcRiJ9js6fw8+eSe2glgp+74NXrLvnhEYML4+JacZs/4eHDss+dt6H2Jcs3zkrmRzweXPDuXVtxH2tQXbrC6Oh+7LMLEJyWwVea0HecSOfSqC/5YQ/1WTBVYXx8c/SFnkW1mCgfxjM/ImIw9YOLXRG+fNlLGP2sL56vOCu7LuggNrnwDPiIjuQzD9nZdYpS0yRuLO55SurXor4OLPzwgfvMA+7Fc3/NHfo1ge8Xn7TFLqEY4DXgnoOGxTEnnNsDdQBIkQfODZoC3iz+amhzuNsQ7gnaQiDuDB/2v/ZJ238E8Ozs2viqfu6dO8YIHkpbtz6AeHIcgbZI8qFFfowzQD7ZKI8NtrTgozS5t/xnFMTGdkCdRQJB47S16wLyH4SNyrl+w5S0plK299lV2InMcvfYABAQNeJiKjL2Hzyc/fu5+QRYzcL379tSfxyyTrnaIcgp/0nkwIy9+44SULjQUHxPmgP4s2d90nfuOkX9aY0vkwp27nLLuXZ9FsDC+pT/5MlAKr+O2llJYOtZEPuurWDX7lO5N28Z88FM/TYhQ/hkpvNvjtSPVQAQtb81L+SeAf5iQkIJUL/X51y8NJ+AroIJgvYJdD2pfPVMZ5fdyAflEz573lfgtPdI7p27EzDx8JxF6ekcgCmvT27A7emsbeofvE0/U5nVmcdPrBX+Gd27ODevRsbhIweyz/ssob7JPBleXoGBh093YacQ3gloVRh4oB4APL63Ac8FKAgoBDwc7HtzADcoBQRlf7QP/zqYZQlCPBG3QS/bNOPI0QNpq1YHJ880jedOnHCf7SLjrwxNAU1Fhqk1wJcbGDiFAKaW5Xlmg2CXo2u2z4XF+NhMtteZdQxk6bZ2PjghXgLmA0dzrl6dQxOgYcG79+0IcO6CPXuP0XWDoqQk1Wwfn8VZHp7roeXwOQRofYAxS1wfaT41aud07t1AI5GwQOJpIW09NO/+/XF5f9w3IGCOJwC2znDac5LSxvIDqPKCgiZknji5lYC7mSaeGbw5WSddt+H715nHT+6Axs7xvbwg+4z38rQ1a28yYAKIxfTSMSZU7ymaCCvwGYb8qKiBNEEPEbCHisut5VYj4rQAc86Va/OwWnJ5p903cWD2PruOnnEFJhzyMvbsPUVG/klMFnm8WxhtoAhkuOG/geiMEyH4zC3AjjycJ4QPGeAGeGHgYYv6W263/1owywR4WlpD0oK/0sucn3PZb36ZZQlcOVeumuPFYRklIDaiF9EHFCKPtDOW5vwHD7i4CICEtI4N2xInIFvm+F2xIK3chiaBKrXXG7SBfquQtm5Ok2FRXnDwRLz0vPuhY1EXgblqXmjoWK6PRCfwgcjc6zcsSp0qp1WEOP6mnKvX5qLNwqQkNdKA63L9A2YDoKyc8PnzXljuiWoo02TkApwwAejeNYhDKZkYEcMx2Qns87AjypVhfREKq+XfDzWQtEurC7WzJi8wiPtQIyYZB1RaCYuSaZK7nd6CVQwfsswT30c2jiE9p7Xw6Z+DYPdQe/oFMX91E754KRcwc+MuNtignYkzt0asBb53QcZeN4Ab2pdoSEt5/D8m/5VgVohC/qlUeAcUohB5SYV3QCEKkZdUeAcUohB5SYV3QCEKkZdUeAcUohB5SYV3QCEKkZdUeAcUohB5SYV3QCEKkZdUeAcUohB5SYV3QCEKkZdUeAcUohB5SYV3QCEKkZf8HwAAAP//AwDing9C65tilgAAAABJRU5ErkJggg==\"></img>\n",
        "<font size=\"6px\" color=#EB5253>\n",
        "Méthodes de développement digital - Python</font></p>"
      ],
      "metadata": {
        "id": "iAGLdIaVJMJ5"
      }
    },
    {
      "cell_type": "markdown",
      "source": [
        "# <font color=#A25004>IV. Première analyse de données</font>"
      ],
      "metadata": {
        "id": "Y2xgQMG8HPj4"
      }
    },
    {
      "cell_type": "markdown",
      "source": [
        "Un des intérêts d'utiliser python est de pouvoir analyser efficacement un grand nombre de données, ce qui n'est pas toujours possible en excel.\n",
        "\n",
        "Python permet aussi d'utiliser les mêmes traitements sur différents jeux de données sans avoir à recréer un nouveau programme comme avec Excel où il faut refaire une feuille excel.\n",
        "\n",
        "Enfin, l'intérêt majeur de Python est dans la possibilité de réutiliser de nombreuses fonctions écrites par d'autres sans avoir à écrire les programmes nous-même."
      ],
      "metadata": {
        "id": "SMEaCqkKnGQc"
      }
    },
    {
      "cell_type": "markdown",
      "source": [
        "## <font color=#FD8008>1. L'utilisation de librairies</font>"
      ],
      "metadata": {
        "id": "_aEgT26vVbGm"
      }
    },
    {
      "cell_type": "markdown",
      "source": [
        "> <font color=#66CCFF>**Définition :**</font> *Une* <font color=#FC6666>librairie</font> *ou* <font color=#FC6666>bibliothèque</font> *est un enmsemble d'instructions et de fonctions écrit par d'autres que l'on peut utiliser dans notre propre programme.*\n",
        "\n",
        "Il existe un très grand nombre de librairies et en cherchant sur internet, vous en trouverez certainement plusieurs adaptées à vos besoins.\n",
        "\n",
        "Nous en verrons ici principalement 4 :\n",
        "* math\n",
        "* Numpy\n",
        "* Panda\n",
        "* Seaborn\n",
        "\n",
        "Pour utiliser une librairie, il faut dire à Python que l'on souhaite l'utiser et d'ajouter (<font color=#9BC645>*importer*</font> en langage informatique) les instructions (appelées <font color=#9BC645>*fonctions*</font>) de la librairie aux instructions disponibles.\n",
        "\n",
        "#### <font color=#66CCFF>**Syntaxe :** </font>\n",
        "```\n",
        "import nom_lib\n",
        "```\n",
        "\n",
        "Ensuite pour utiliser une instruction de cette librairie, il faudra indiquer à Python que c'est une fonction de cette libraire en la préfixer du nom de la librairie. Ainsi pour une instruction ```action()``` de la librairie ```nom_lib```, la syntaxe est :\n",
        "```\n",
        "nom_lib.action()\n",
        "``` \n",
        "\n",
        "Si le nom de la librairie est long, on peut définir un raccourci grâce au mot clef ```as``` afin que le prefixe des instructions soit plus simple. La syntaxe est alors :\n",
        "```\n",
        "import nom_lib_tres_long as court\n",
        "court.action()\n",
        "``` \n"
      ],
      "metadata": {
        "id": "j3n9_6a-nuiW"
      }
    },
    {
      "cell_type": "markdown",
      "source": [
        "#### <font color=#66CCFF>**Exemple : la librairie math** </font>\n"
      ],
      "metadata": {
        "id": "rVU0x1mNpOeR"
      }
    },
    {
      "cell_type": "markdown",
      "source": [
        "Certaines fonctions mathématiques, pourtant assez courantes, ne sont pas disponibles de base avec Python mais elles sont définis dans la librairie ```math```. \n",
        "\n",
        "Ainsi si l'on veut par exemple calculer un <font color=#9BC645>*sinus*</font> ou un <font color=#9BC645>*cosinus*</font>, il faut faire : "
      ],
      "metadata": {
        "id": "N0x0PPyCqg-v"
      }
    },
    {
      "cell_type": "code",
      "source": [
        "import math as m #importation de la librairie math avec le raccourci m\n",
        "print(\"sinus de 30 =\",m.sin(30))\n",
        "print(\"cosinus de 30 =\",m.cos(30))"
      ],
      "metadata": {
        "id": "6Aj4Q1h6q8UZ"
      },
      "execution_count": null,
      "outputs": []
    },
    {
      "cell_type": "markdown",
      "source": [
        "Vous trouverez facilement en une recherche sur internet la liste des fonctions offertes par la librairie ```math```"
      ],
      "metadata": {
        "id": "8YCG5RHLrQ7d"
      }
    },
    {
      "cell_type": "markdown",
      "source": [
        "## <font color=#FD8008>2. Utiliser des fichiers de données</font>"
      ],
      "metadata": {
        "id": "46FuFSFJmaQs"
      }
    },
    {
      "cell_type": "markdown",
      "source": [
        "On a dit qu'un des intérêts majeurs de Python était sa capacité à traiter un très grand volume de données. Si on a des miliers de données à traiter, on ne va pas demander à l'utilisateur de les rentrer une à une.  Généralement ces données sont stockées dans des fichiers. On va voir ici comment utiliser certains fichiers."
      ],
      "metadata": {
        "id": "k8proL7wrZ_v"
      }
    },
    {
      "cell_type": "markdown",
      "source": [
        "### <font color=#FECC66>2.1 Utilisation standard</font>"
      ],
      "metadata": {
        "id": "_0GU_42hr1wE"
      }
    },
    {
      "cell_type": "markdown",
      "source": [
        "Python possède des instructions permettant de lire ou d'écrire des fichiers.\n",
        "\n"
      ],
      "metadata": {
        "id": "Z4t4MlmTzpJn"
      }
    },
    {
      "cell_type": "markdown",
      "source": [
        "#### <font color=#72DB6B>1.1.1 Lecture d'un fichier</font> \n"
      ],
      "metadata": {
        "id": "h-UMA7eF2wJJ"
      }
    },
    {
      "cell_type": "markdown",
      "source": [
        "La synthaxe pour travailler avec un fichier que l'on veut lire est particulière et est la suivante : "
      ],
      "metadata": {
        "id": "B0e34_V02n1M"
      }
    },
    {
      "cell_type": "code",
      "source": [
        "nomfichier = \"sample_data/california_housing_test.csv\"\n",
        "with open(nomfichier, 'r') as f: #on demande à travailler en lecture ('r') avec le fichier qui a le nom nomfichier\n",
        "  lines = f.readlines() # on lit les lignes du fichiers qui seront ajoutées à la liste lines\n",
        "lines # affichages des lignes du fichiers"
      ],
      "metadata": {
        "id": "iibpl85b0Hpd"
      },
      "execution_count": null,
      "outputs": []
    },
    {
      "cell_type": "markdown",
      "source": [
        "On voit le contenu de toutes les lignes avec les fins de ligne qui sont codées par le caractère ```\\n```\n",
        "\n",
        "On peut utiliser une forme particulière de l'instruction ```for``` permettant à la fois de parcourir les lignes et en même temps d'avoir l'index de celles-ci pour effacer le ```\\n``` "
      ],
      "metadata": {
        "id": "XlN9uyuo1l3m"
      }
    },
    {
      "cell_type": "code",
      "source": [
        "del lines[0] # on efface la ligne d'en-tête pour ne garder que les données\n",
        "for i, line in enumerate(lines):\n",
        "  lines[i] = line.replace('\\n', '') # on efface le caractère \\n\n",
        "print(lines)"
      ],
      "metadata": {
        "id": "dYgD3hHG1haY"
      },
      "execution_count": null,
      "outputs": []
    },
    {
      "cell_type": "markdown",
      "source": [
        "#### <font color=#72DB6B>1.1.2 Écriture dand un fichier</font> \n"
      ],
      "metadata": {
        "id": "QxoTEIl0211B"
      }
    },
    {
      "cell_type": "markdown",
      "source": [
        "La syntaxe sera du même ordre que celle employée pour lire le fichier mais avec l'instruction ```write``` au lieu de ```readlines```.\n",
        "\n",
        "<font color=red>**Attention**</font> il est important d'indiquer à Python qu'on a fini d'écrire dans le fichier pour que l'écriture soit effective. En effet, pour des raisons d'efficacité, Python écrit les données par bloc et les dernières données pourraient ne pas avoir été écrite si on ne le fait pas.\n",
        "\n",
        "On appelle cela <font color=#9BC645>*fermer*</font> le fichier et cela se fait par l'utilisation de l'instruction ```close()```."
      ],
      "metadata": {
        "id": "aChQYuWu0AOs"
      }
    },
    {
      "cell_type": "markdown",
      "source": [
        "##### <font color=#66CCFF>**Exemples :** </font>\n"
      ],
      "metadata": {
        "id": "GfNQvxJr4OT6"
      }
    },
    {
      "cell_type": "code",
      "source": [
        "#Exemple 1 : Écriture d'un texte dans un fichier\n",
        "with open('sample_data/test_ecriture','w') as f: # 'w' pour ouverture en écriture\n",
        "  f.write(\"salutation, écriture test dans un fichier\")\n",
        "f.close()"
      ],
      "metadata": {
        "id": "-Doo_51w4I6E"
      },
      "execution_count": null,
      "outputs": []
    },
    {
      "cell_type": "code",
      "source": [
        "# Exemple 2 : Écriture de toutes les lignes\n",
        "with open('sample_data/test_ecriture_lignes','w') as f: # 'w' pour écriture, on écrase le fichier\n",
        "  f.writelines(lines)\n",
        "f.close()\n"
      ],
      "metadata": {
        "id": "eo_xBJ8c694x"
      },
      "execution_count": null,
      "outputs": []
    },
    {
      "cell_type": "markdown",
      "source": [
        "Comme on a enlevé les ```\\n``` dans notre liste, les listes sont concaténées et on n'arrive plus à lire le fichier.\n",
        "\n",
        "Il faudrait pour chaque ligne ajouter ```\\n``` et donc écrire le fichier ligne après ligne.\n",
        "\n",
        "Cela peut se faire en ouvrant le fichier en ajout (<font color=#9BC645>*append*</font>) : "
      ],
      "metadata": {
        "id": "qrIOcKSA7QOO"
      }
    },
    {
      "cell_type": "code",
      "source": [
        "#Exemple 3 : Écriture de plusieurs lignes dans un fichier une à une pour effectuer un traitemetn\n",
        "with open('sample_data/test_ecriture_ligne','w') as f: # 'w' pour écriture, on écrase le fichier\n",
        "  f.write('')\n",
        "f.close()\n",
        "# véritable écriture dans le fichier\n",
        "with open('sample_data/test_ecriture_ligne','a') as f: # 'a' pour append : chaque écriture s'ajoute à la fin du fichier\n",
        "  for line in lines: # pour chaque ligne, \n",
        "    f.write(line+'\\n') # on écrit la ligne à la fin du fichier\n",
        "f.close()"
      ],
      "metadata": {
        "id": "ynOC1MZM46YJ"
      },
      "execution_count": null,
      "outputs": []
    },
    {
      "cell_type": "markdown",
      "source": [
        "##### <font color=#66CCFF>**Résumé :** </font>\n",
        "\n",
        "* ```open(nomfichier,'r') as f``` permet de lire un fichier\n",
        "  * ```f.read()``` lit tout le fichier\n",
        "  * ```f.readlines()``` lit les lignes du fichier et les range dans une liste\n",
        "* ```open(nomfichier,'w') as f``` permet d'écrire dans un fichier ; le contenu précédent est écrasé (le fichier est remis à 0)\n",
        "    * ```f.write(texte)``` écrit dans le fichier\n",
        "    * ```f.writelines(liste)``` écrit tous les éléments de la liste dans le fichier\n",
        "* ```open(nomficheir,'a') as f``` permet d'ajouter du texte dans un fichier ; le contenu n'est donc pas écrasé\n",
        "    * ```f.write(texte)``` écrit dans le fichier le texte en l'ajoutant à la fin du fichier\n",
        "    * ```f.writelines(liste)``` écrit tous les éléments de la liste dans le fichier en les ajoutant à la fin du fichier"
      ],
      "metadata": {
        "id": "k2smsiki6CRi"
      }
    },
    {
      "cell_type": "markdown",
      "source": [
        "### <font color=#FECC66>2.2 Cas particulier de Collab</font>"
      ],
      "metadata": {
        "id": "5wI6JzFSr6_A"
      }
    },
    {
      "cell_type": "markdown",
      "source": [
        "Le problème de la méthode précédente avec <font color=#9BC645>*Collab*</font> est que les fichiers rajoutés dans le répertoire du notebook peuvent être effacés par Google. C'est particulièrement vrai pour les fichiers uploadé depuis votre ordinateur par l'utilisation du bouton upload.\n",
        "\n",
        "Il peut donc être préférable de garder ses fichiers de données sur son ordinateur ou sur son Google Drive."
      ],
      "metadata": {
        "id": "SViav_MX8VdN"
      }
    },
    {
      "cell_type": "markdown",
      "source": [
        "#### <font color=#72DB6B>2.2.1 Utilisation de ```upload()```</font> \n"
      ],
      "metadata": {
        "id": "R0Mr4LCyujFY"
      }
    },
    {
      "cell_type": "markdown",
      "source": [
        "Google fournit une librairie <font color=#9BC645>*Colab*</font> contenant elle-même plusieurs librairies dont la librairie ```files``` permettant d'accéder à des instructions pour travailler avec des fichiers.\n",
        "\n",
        "Ainsi l'instruction ```upload()``` permet de demander à l'utilisateur quels fichiers de son ordinateur il veut charger permettant ainsi de le rajouter au notebook par programme et surtout de changer le fichier de données à chaque exécution.\n",
        "\n",
        "Comme on peut charger plusieurs fichiers en une seule fois, ```upload()``` stocke le chargement dans un <font color=#FC6666>*dictionnaire*</font> (on verra plus tard exactement ce qu'est un dictionnaire) et on accède au contenu par le nom du fichier."
      ],
      "metadata": {
        "id": "Sr4lsII69RQP"
      }
    },
    {
      "cell_type": "markdown",
      "source": [
        "##### <font color=#66CCFF>**Syntaxe :** </font>\n"
      ],
      "metadata": {
        "id": "nQNl6zWW_abk"
      }
    },
    {
      "cell_type": "markdown",
      "source": [
        "Popur essayer le code ci-dessous, rajoutez un fichier appelé ```drivefilecolab.txt``` dans votre Drive."
      ],
      "metadata": {
        "id": "oP7D97ogGOao"
      }
    },
    {
      "cell_type": "code",
      "source": [
        "from google.colab import drive #on importe la librairie drive de la librairie colab de google\n",
        "drive.mount('/content/drive') #on rajoute le disque de son drive à son notebook\n",
        "filename = \"drivefilecolab.txt\"\n",
        "pathfile = '/content/drive/My Drive/'+filename\n",
        "with open(pathfile,'rt') as f:\n",
        "  lines = f.readlines()\n",
        "for line in lines:\n",
        "  print(line)\n",
        "drive.flush_and_unmount() #désinstaller votre Drive"
      ],
      "metadata": {
        "id": "mTBR1l5f_crj"
      },
      "execution_count": null,
      "outputs": []
    },
    {
      "cell_type": "markdown",
      "source": [
        "##### <font color=#66CCFF>**Avantage de la méthode :** </font>\n"
      ],
      "metadata": {
        "id": "TKq7y1PND9ni"
      }
    },
    {
      "cell_type": "markdown",
      "source": [
        "La méthode est facile à utiliser et permet de charger des données directement depuis son ordinateur."
      ],
      "metadata": {
        "id": "meofQ0q2IK-j"
      }
    },
    {
      "cell_type": "markdown",
      "source": [
        "##### <font color=#66CCFF>**Inconvénient de la méthode :** </font>\n"
      ],
      "metadata": {
        "id": "p3xlCQJzEKSo"
      }
    },
    {
      "cell_type": "markdown",
      "source": [
        "Pour des fichiers de grande taille, le téléchargement peut prendre du temps. \n",
        "\n",
        "En outre le fichier téléchargé peut être effacé et il faudra donc le télécharger à nouveau."
      ],
      "metadata": {
        "id": "bDRYqeuCIAbG"
      }
    },
    {
      "cell_type": "markdown",
      "source": [
        "#### <font color=#72DB6B>2.2.2 Accès direct à son Google Drive</font> \n"
      ],
      "metadata": {
        "id": "DLgeEICauv9N"
      }
    },
    {
      "cell_type": "markdown",
      "source": [
        "Google fournit via la librairie <font color=#9BC645>*Colab*</font> une librairie ```drive``` permettant d'accéder à son Google Drive via l'instruction ```mount(nom_fichier)```"
      ],
      "metadata": {
        "id": "pJnsFVF9Ed3w"
      }
    },
    {
      "cell_type": "markdown",
      "source": [
        "##### <font color=#66CCFF>**Syntaxe :** </font>\n"
      ],
      "metadata": {
        "id": "aibJQgXYFN6F"
      }
    },
    {
      "cell_type": "code",
      "source": [
        "from google.colab import files #on importe la librairie files de la librairie colab de google\n",
        "telechargement = files.upload()\n",
        "for filename in telechargement.keys(): #pour chaque clef, soit chaque nom de fichier\n",
        "  print(\"fichier '\",filename,\"'\")\n",
        "  with open(filename,'rt') as f:\n",
        "    lines = f.readlines()\n",
        "  for line in lines:\n",
        "    print(line)\n"
      ],
      "metadata": {
        "id": "lc9S22lCFN6G"
      },
      "execution_count": null,
      "outputs": []
    },
    {
      "cell_type": "markdown",
      "source": [
        "##### <font color=#66CCFF>**Avantage de la méthode :** </font>\n"
      ],
      "metadata": {
        "id": "RziuSh5RFN6G"
      }
    },
    {
      "cell_type": "markdown",
      "source": [
        "La méthode est facile à utiliser et vous permet d'organiser vos fichier via Google Drive.\n",
        "\n",
        "Tant que vous ne désinstallez pas le drive, vos fichier restent accessibles et il n'y a pas de risque qu'ils soient effacés"
      ],
      "metadata": {
        "id": "3iCYuBINEBVa"
      }
    },
    {
      "cell_type": "markdown",
      "source": [
        "##### <font color=#66CCFF>**Inconvénient de la méthode :** </font>\n"
      ],
      "metadata": {
        "id": "NK4cxqQ_FN6G"
      }
    },
    {
      "cell_type": "markdown",
      "source": [
        "L'inconvénient est qu'il donne accès au drive. Pour des projets personnels, ce n'est pas forcément un problème, pour des projets d'entreprise c'est plus problématique."
      ],
      "metadata": {
        "id": "5naesMTlENuI"
      }
    },
    {
      "cell_type": "markdown",
      "source": [
        "### <font color=#FECC66>2.3 Autres possibilités</font>"
      ],
      "metadata": {
        "id": "lAMHEP-BsAC9"
      }
    },
    {
      "cell_type": "markdown",
      "source": [
        "Il existe d'autres possibilités d'accéder à des données, que ce soit avec un programme Python ou avec Collab.\n",
        "\n",
        "Principalement, en utilisant des librairies spécialisées ou en utilisant des systèmes de stockage dans le cloud autre que Google Drive : Aws, Azire, ou même des bases de données.\n",
        "\n",
        "Nous n'aurons pas le temps d'étudier ces autres possibilités et nous nous contenterons donc de celles décrites ci-dessous.\n",
        "\n",
        "Cependant, cette richesse d'accès aux données est aussi un avantage de Python sur une simple feuille Excel."
      ],
      "metadata": {
        "id": "lR5U8ArMu6X5"
      }
    },
    {
      "cell_type": "markdown",
      "source": [
        "## <font color=#FD8008>3. Introduction à la librairie *Numpy*</font>"
      ],
      "metadata": {
        "id": "HVJjax0Imaxv"
      }
    },
    {
      "cell_type": "markdown",
      "source": [
        "<font color=#9BC645>*Numpy*</font> est une librairie permettant de faire des calculs en rajoutant de nombreuses fonctions mathématiques. Cette librairie est plus complète et surtout plus efficace que la librairie ```math``` standard.\n",
        "\n",
        "Elle offre également des fonctions de générations aléatoire de nombres, très pratique lorsque l'on veut essayer son programme en générant des données aléatoires car on ne dispose pas encore de données réelles.\n",
        "\n",
        "Enfin, un des gros avantages de <font color=#9BC645>*Numpy*</font> est sa définition des tableaux, beaucoup plus facile à manipuler que les listes surtout quand on a des tableaux avec plusieurs lignes et colonnes (*comme une feuille Excel, par exemple*).\n",
        "\n",
        "Pour l'instant, on va justement se concentrer sur les tableaux qui nous serviront plus tard à stocker nos données.\n"
      ],
      "metadata": {
        "id": "vU8vbWCzJduI"
      }
    },
    {
      "cell_type": "markdown",
      "source": [
        "### <font color=#FECC66>3.1 Création d'un tableau</font>"
      ],
      "metadata": {
        "id": "5vnoAdOUOiEt"
      }
    },
    {
      "cell_type": "markdown",
      "source": [
        "Pour créer un tableau, il faut faire appel à l'instructions ```array```de la librairie <font color=#9BC645>*Numpy*</font> :"
      ],
      "metadata": {
        "id": "pspr7PBKKZ6e"
      }
    },
    {
      "cell_type": "code",
      "source": [
        "import numpy as np # importation de la librairie numpy renommé en np\n",
        "\n",
        "data = np.array([\n",
        "    [1, 4, 20, 19],\n",
        "    [18, 9, 19, 2],\n",
        "    [12, 10, 11, 6]\n",
        "]) # creation d'un tableau avec 2 lignes et 4 colonnes\n",
        "print(data)"
      ],
      "metadata": {
        "id": "UDM1hLyhKsTP"
      },
      "execution_count": null,
      "outputs": []
    },
    {
      "cell_type": "markdown",
      "source": [
        "On peut connaître certaines informations sur la structure du tableau :"
      ],
      "metadata": {
        "id": "6ilasxolLD-e"
      }
    },
    {
      "cell_type": "code",
      "source": [
        "#nombre de dimension du tableau (2 en général, 1 pour une liste)\n",
        "data.ndim"
      ],
      "metadata": {
        "id": "en85ax3BLCFd"
      },
      "execution_count": null,
      "outputs": []
    },
    {
      "cell_type": "code",
      "source": [
        "# connaitre ses dimensions\n",
        "data.shape"
      ],
      "metadata": {
        "id": "lD33gEbqLPt6"
      },
      "execution_count": null,
      "outputs": []
    },
    {
      "cell_type": "code",
      "source": [
        "# connaitre le nombre de données\n",
        "data.size"
      ],
      "metadata": {
        "id": "JJI6x3lhLYpp"
      },
      "execution_count": null,
      "outputs": []
    },
    {
      "cell_type": "code",
      "source": [
        "datalist = np.array([1,2,3])\n",
        "print(\"dimension :\", datalist.ndim)\n",
        "print(\"forme du tableau :\",datalist.shape)\n",
        "print(\"nombre de données :\",datalist.size)"
      ],
      "metadata": {
        "id": "viEJ3xeELeLf"
      },
      "execution_count": null,
      "outputs": []
    },
    {
      "cell_type": "markdown",
      "source": [
        "### <font color=#FECC66>3.2 Accéder à des éléments</font>"
      ],
      "metadata": {
        "id": "XhlU-sfOO2Ql"
      }
    },
    {
      "cell_type": "markdown",
      "source": [
        "Accéder à un élément du tableau est simple, on indique tout simplement la ligne, puis la colonne.\n",
        "\n",
        "<font color=red>Attention :</font> rappelez-vous qu'en Python les index commencents à 0, la première ligne est donc la ligne 0, la deuxième la ligne 1, et ainsi de suite. Même chose évidemment pour les colonnes"
      ],
      "metadata": {
        "id": "RcFuXFWDL3hb"
      }
    },
    {
      "cell_type": "code",
      "source": [
        "data[1,2]"
      ],
      "metadata": {
        "id": "TilCYqSGL6sH"
      },
      "execution_count": null,
      "outputs": []
    },
    {
      "cell_type": "markdown",
      "source": [
        "On peut même accéder à des parties d'un tableau en indiquant par le caractère ```:```` qu'on veut toutes les données à partir de l'index indiqué :"
      ],
      "metadata": {
        "id": "ERyvBK-8MaQh"
      }
    },
    {
      "cell_type": "code",
      "source": [
        "data[1:,2:]"
      ],
      "metadata": {
        "id": "sLroOa_XMmAE"
      },
      "execution_count": null,
      "outputs": []
    },
    {
      "cell_type": "code",
      "source": [
        "data[0:,1:] # on veut le tableau sans la première colonne"
      ],
      "metadata": {
        "id": "OMKYwb0HMpv4"
      },
      "execution_count": null,
      "outputs": []
    },
    {
      "cell_type": "code",
      "source": [
        "matrice = data[1:,2:]\n",
        "print(matrice)"
      ],
      "metadata": {
        "id": "3VL6V3RnNA2W"
      },
      "execution_count": null,
      "outputs": []
    },
    {
      "cell_type": "markdown",
      "source": [
        "### <font color=#FECC66>3.3 Créations de données en tableau</font>"
      ],
      "metadata": {
        "id": "Tug6_C5cO_fk"
      }
    },
    {
      "cell_type": "markdown",
      "source": [
        "L'instruction ```arange``` de <font color=#9BC645>*Numpy*</font>, inspiré de l'instruction ```range``` que nous avons déjà vue, permet de générer une liste de nombres croissant :"
      ],
      "metadata": {
        "id": "4L2QroigPTaa"
      }
    },
    {
      "cell_type": "code",
      "source": [
        "datagen = np.arange(1,89,3) #génère une liste de nombre commençant à 1 jusqu'à 19 de 3 en 3, \n",
        "datagen"
      ],
      "metadata": {
        "id": "G65VCXpFNbBf"
      },
      "execution_count": null,
      "outputs": []
    },
    {
      "cell_type": "code",
      "source": [
        "datagen.size"
      ],
      "metadata": {
        "id": "TylQTqCyREWD"
      },
      "execution_count": null,
      "outputs": []
    },
    {
      "cell_type": "markdown",
      "source": [
        "La fonction ```arange``` nous donne un tableau sous forme de liste de nombres, or nous voudrions avoir un tableau à plusieurs dimensions. Heureusement la fonction ```reshape``` nous permet de redimensionner le tableau.\n",
        "\n",
        "Ainsi, on peut transformer notre tableau ```datagen``` en un tableau avec 3 lignes en indiquant ```(nombre_lignes,nombre_colonnes)```. Attention il faut que ```nombre_lignes * nombre_colonnes``` soit égale au nombre de données pour que l'opération réussisse.\n",
        "\n",
        "Ainsi, pour ```datagen```, on fera :"
      ],
      "metadata": {
        "id": "_rxclprtP3KQ"
      }
    },
    {
      "cell_type": "code",
      "source": [
        "datagen.reshape((3,10))"
      ],
      "metadata": {
        "id": "V4geV1tbQ8cI"
      },
      "execution_count": null,
      "outputs": []
    },
    {
      "cell_type": "markdown",
      "source": [
        "L'inconvénient de la méthode précédente est que les nombres sont tous croissant et à intervalle régulier. Heureusement <font color=#9BC645>*Numpy*</font> fournit une instruction permettant de générer des nombres aléaoire et de les ranger dans un tableau : "
      ],
      "metadata": {
        "id": "eZUYNkHKRZjg"
      }
    },
    {
      "cell_type": "code",
      "source": [
        "np.random.randint(20,size=(3,10))"
      ],
      "metadata": {
        "id": "_W0Pv8dHRz_w"
      },
      "execution_count": null,
      "outputs": []
    },
    {
      "cell_type": "markdown",
      "source": [
        "Si l'on veut générer des nombres réels, on utilisera la fonction ```random.uniform(valeur_min,valeur_max,taille_tableau)``` :"
      ],
      "metadata": {
        "id": "UzFQWAjyTJxe"
      }
    },
    {
      "cell_type": "code",
      "source": [
        "np.random.uniform(0, 20, (3,10))"
      ],
      "metadata": {
        "id": "Wep4UnpjR9yU"
      },
      "execution_count": null,
      "outputs": []
    },
    {
      "cell_type": "markdown",
      "source": [
        "### <font color=#FECC66>3.4 Opération sur tout un tableau</font>"
      ],
      "metadata": {
        "id": "6zba6RX-Tjii"
      }
    },
    {
      "cell_type": "markdown",
      "source": [
        "<font color=#9BC645>*Numpy*</font> permet d'appliquer une opération sur tout un tableau sans avoir besoin d'avoir recours à une boucle ```for```"
      ],
      "metadata": {
        "id": "g6UdoWrgTqHI"
      }
    },
    {
      "cell_type": "markdown",
      "source": [
        "#### <font color=#72DB6B>3.4.1 Opérations arithmétiques sur toutes les données d'un tableau</font> \n"
      ],
      "metadata": {
        "id": "PX9z9Yw-WLFU"
      }
    },
    {
      "cell_type": "code",
      "source": [
        "tabnotes = np.random.uniform(20,size=(3,10))\n",
        "print(tabnotes)\n",
        "#Ajout de 2 à tout le tableau\n",
        "print('---')\n",
        "print(tabnotes + 2)"
      ],
      "metadata": {
        "id": "a6M059MDT3Y5"
      },
      "execution_count": null,
      "outputs": []
    },
    {
      "cell_type": "code",
      "source": [
        "#Division par de 2 de tout le tableau\n",
        "print('---')\n",
        "print(tabnotes / 2)"
      ],
      "metadata": {
        "id": "ctzIrotmURKl"
      },
      "execution_count": null,
      "outputs": []
    },
    {
      "cell_type": "markdown",
      "source": [
        "<font color=#9BC645>*Numpy*</font> dispose également d'opérations statistiques de base sur tout un tableau :\n",
        "\n"
      ],
      "metadata": {
        "id": "r0-JZcYfUbte"
      }
    },
    {
      "cell_type": "code",
      "source": [
        "#somme de tout le tableau\n",
        "np.sum(tabnotes)"
      ],
      "metadata": {
        "id": "h4rPyNyLUa6k"
      },
      "execution_count": null,
      "outputs": []
    },
    {
      "cell_type": "code",
      "source": [
        "#somme de chaque colonne\n",
        "np.sum(tabnotes, axis=0)"
      ],
      "metadata": {
        "id": "1ijb9zw0U26C"
      },
      "execution_count": null,
      "outputs": []
    },
    {
      "cell_type": "code",
      "source": [
        "#somme de toutes les lignes\n",
        "np.sum(tabnotes, axis=1)"
      ],
      "metadata": {
        "id": "Hqh3BuTIVCB7"
      },
      "execution_count": null,
      "outputs": []
    },
    {
      "cell_type": "markdown",
      "source": [
        "#### <font color=#72DB6B>3.4.2 Opérations statistiques sur les données d'un tableau</font> \n"
      ],
      "metadata": {
        "id": "LIC2DIR9WWoy"
      }
    },
    {
      "cell_type": "code",
      "source": [
        "# minimum du tableau\n",
        "np.min(tabnotes)"
      ],
      "metadata": {
        "id": "1Cl13p5VVOMF"
      },
      "execution_count": null,
      "outputs": []
    },
    {
      "cell_type": "code",
      "source": [
        "# minimum de chaque ligne du tableau\n",
        "np.min(tabnotes, axis = 1)"
      ],
      "metadata": {
        "id": "_Ai5yJ7NVTOs"
      },
      "execution_count": null,
      "outputs": []
    },
    {
      "cell_type": "code",
      "source": [
        "# maximum du tableau\n",
        "np.max(tabnotes)"
      ],
      "metadata": {
        "id": "8HODq-r4VTXh"
      },
      "execution_count": null,
      "outputs": []
    },
    {
      "cell_type": "code",
      "source": [
        "# maximum de chaque ligne du tableau\n",
        "np.max(tabnotes, axis=1)"
      ],
      "metadata": {
        "id": "yw3GtYYgVTgD"
      },
      "execution_count": null,
      "outputs": []
    },
    {
      "cell_type": "code",
      "source": [
        "# moyenne du tableau\n",
        "np.mean(tabnotes)"
      ],
      "metadata": {
        "id": "sEf2IA0qVi8p"
      },
      "execution_count": null,
      "outputs": []
    },
    {
      "cell_type": "code",
      "source": [
        "# moyenne de chaque ligne du tableau\n",
        "np.mean(tabnotes, axis=1)"
      ],
      "metadata": {
        "id": "cEcYIwXnVi8q"
      },
      "execution_count": null,
      "outputs": []
    },
    {
      "cell_type": "code",
      "source": [
        "# médiane de chaque ligne du tableau\n",
        "np.median(tabnotes, axis=1)"
      ],
      "metadata": {
        "id": "MMkeOFcBWmve"
      },
      "execution_count": null,
      "outputs": []
    },
    {
      "cell_type": "code",
      "source": [
        "# percentile de chaque ligne du tableau\n",
        "np.percentile(tabnotes, 50, axis=1) # 50% des notes sont plus petites que cette valeur sur la ligne => on doit retrouver la médiane"
      ],
      "metadata": {
        "id": "w4B5WT6vWp5K"
      },
      "execution_count": null,
      "outputs": []
    },
    {
      "cell_type": "code",
      "source": [
        "# percentile de chaque ligne du tableau\n",
        "np.percentile(tabnotes, 80, axis=1) # 80% des notes sont plus petites que cette valeur sur la ligne "
      ],
      "metadata": {
        "id": "3kRkC7m1XXgs"
      },
      "execution_count": null,
      "outputs": []
    },
    {
      "cell_type": "markdown",
      "source": [
        "#### <font color=#72DB6B>3.4.3 Opérations d'interrogation sur les données d'un tableau</font> \n"
      ],
      "metadata": {
        "id": "NtY6qy2FWcGI"
      }
    },
    {
      "cell_type": "markdown",
      "source": [
        "On peut appliquer des opérateurs logique à un tableau, la réponse est alors un tableau de booléaens indiquant pour chaque valeur si elle répond à la condition exprimée :"
      ],
      "metadata": {
        "id": "7pdbDJJAdI0L"
      }
    },
    {
      "cell_type": "code",
      "source": [
        "#les notes sont elles supérieures ou égales à 10\n",
        "tabnotes >= 10"
      ],
      "metadata": {
        "id": "yCsolqyXYjXc"
      },
      "execution_count": null,
      "outputs": []
    },
    {
      "cell_type": "markdown",
      "source": [
        "On pourrait alors récupérer toutes les notes supérieures ou égales à 10 en parcourant simultanément les deux tableaux et en testant la valeur booléenne. \n",
        "\n",
        "Un peu compliqué ! Heureusement on peut filtrer un tableau <font color=#9BC645>*Numpy*</font> avec un tableau de booléen qui doit bien sûr être exactement de la même dimension"
      ],
      "metadata": {
        "id": "jP4gJT7DdZar"
      }
    },
    {
      "cell_type": "code",
      "source": [
        "mask = tabnotes >= 10\n",
        "tabnotes[mask]"
      ],
      "metadata": {
        "id": "jzrPQk0bdtXp"
      },
      "execution_count": null,
      "outputs": []
    },
    {
      "cell_type": "markdown",
      "source": [
        "ou directement :"
      ],
      "metadata": {
        "id": "ZHKLnrIRdy-p"
      }
    },
    {
      "cell_type": "code",
      "source": [
        "tabnotes[tabnotes >= 10]"
      ],
      "metadata": {
        "id": "zAf5faa2Ytk6"
      },
      "execution_count": null,
      "outputs": []
    },
    {
      "cell_type": "markdown",
      "source": [
        "Un booléen se convertir facilement en un entier, ```0``` pour ```False``` et ```1``` pour ```True```. On peut donc facilement en utilsant le masque compter combien de notes sont supérieures ou égales à 10 :"
      ],
      "metadata": {
        "id": "jrsepYLEhNnp"
      }
    },
    {
      "cell_type": "code",
      "source": [
        "#nombre de notes supérieures à 10 par ligne :\n",
        "sum(mask)"
      ],
      "metadata": {
        "id": "BOOMqvnJhf7R"
      },
      "execution_count": null,
      "outputs": []
    },
    {
      "cell_type": "code",
      "source": [
        "#nombre de notes supérieures à 10 dans tout le tableau :\n",
        "sum(sum(mask))"
      ],
      "metadata": {
        "id": "Xx0dz88dhrij"
      },
      "execution_count": null,
      "outputs": []
    },
    {
      "cell_type": "markdown",
      "source": [
        "On peut aussi interroger pour savoir si la condition est au moins réalisée une fois : ```any``` ou pour toutes les valeurs du tableau : ```all```"
      ],
      "metadata": {
        "id": "Nd8EMuBHIWNI"
      }
    },
    {
      "cell_type": "code",
      "source": [
        "#tous les élèves ont au moins 3 ?\n",
        "np.all(tabnotes > 3)"
      ],
      "metadata": {
        "id": "BIswV6QUIjgd"
      },
      "execution_count": null,
      "outputs": []
    },
    {
      "cell_type": "code",
      "source": [
        "#un élève a-t-il au moins 19 ?\n",
        "np.any(tabnotes >= 19)"
      ],
      "metadata": {
        "id": "NHpvUh58Jd42"
      },
      "execution_count": null,
      "outputs": []
    },
    {
      "cell_type": "markdown",
      "source": [
        "Cela nous a affiché toutes les notes. Supposons que chaque ligne du tableau représentent les notes d'un élève, on voudrait alors extraire les notes supérieures ou égales à 10 par élève.\n",
        "\n",
        "Pour cela on est obligé de faire la même opération mais ligne par ligne : "
      ],
      "metadata": {
        "id": "foI723AFd3U9"
      }
    },
    {
      "cell_type": "code",
      "source": [
        "for line in tabnotes: # on itere sur les lignes\n",
        "  print(line[line >= 10])"
      ],
      "metadata": {
        "id": "dK9AuGA6Zn3w"
      },
      "execution_count": null,
      "outputs": []
    },
    {
      "cell_type": "markdown",
      "source": [
        "Pour parcourir un tableau selon les colonnes, c'est plus compliqué car par défaut ```for``` itère sur les lignes.\n",
        "\n",
        "On va récupérer le nombre de colonnes grâce à ```shape``` et on va parcourir les colonnes du tableau grâce à leur index :"
      ],
      "metadata": {
        "id": "6j3yUpF_cXmT"
      }
    },
    {
      "cell_type": "code",
      "source": [
        "cols = tabnotes.shape[1]\n",
        "for col in range(cols):\n",
        "  colonne = tabnotes[:,col]\n",
        "  print(colonne[colonne >= 10])"
      ],
      "metadata": {
        "id": "GnK_o00AcWx1"
      },
      "execution_count": null,
      "outputs": []
    },
    {
      "cell_type": "markdown",
      "source": [
        "Si on veut faire des opérations plus compliquées, il faut utiliser des instructions spéciales de <font color=#9BC645>*Numpy*</font> telle que : "
      ],
      "metadata": {
        "id": "PsP1RonveOi2"
      }
    },
    {
      "cell_type": "code",
      "source": [
        "np.logical_and(tabnotes <= 12, tabnotes >= 8)"
      ],
      "metadata": {
        "id": "WYQ3koKhYW26"
      },
      "execution_count": null,
      "outputs": []
    },
    {
      "cell_type": "markdown",
      "source": [
        "Il existe plusieurs fonction de ce genre : \n",
        "* ```greater()```\t: supérieur à\n",
        "* ```greater_equal()```\t: supérieur ou égal à\n",
        "* ```less()```\t: inférieur à\n",
        "* ```less_equal()```\t: inférieur ou égal à\n",
        "* ```equal()```\t: égal à\n",
        "* ```not_equal()```\t: différent de\n",
        "* ```logical_and()```\tEt logique\n",
        "* ```logical_or()```\tOu logique\n",
        "* ```logical_xor()```\tXOR logique"
      ],
      "metadata": {
        "id": "-vOb2D5XeVwI"
      }
    },
    {
      "cell_type": "markdown",
      "source": [
        "### <font color=#FECC66>3.5 Exercice : premier cas d'analyse</font>"
      ],
      "metadata": {
        "id": "jTyoG_N0fgC0"
      }
    },
    {
      "cell_type": "markdown",
      "source": [
        "Afin de pratiquer <font color=#9BC645>*Numpy*</font>, comme premier cas d'analyse assez simple, nous allons étudier les résultats de plusieurs étudiants"
      ],
      "metadata": {
        "id": "X_L3x6Vlfruo"
      }
    },
    {
      "cell_type": "code",
      "source": [
        "# notes de 15 étudiants, chacun ayant 4 notes dans 4 matières\n",
        "notes = np.random.randint(0,21, size=(15,4))\n",
        "print(notes)"
      ],
      "metadata": {
        "id": "0Q8Mah69fziv"
      },
      "execution_count": null,
      "outputs": []
    },
    {
      "cell_type": "markdown",
      "source": [
        "Répondez aux questions suivantes :"
      ],
      "metadata": {
        "id": "ZTUuDBnTgPXe"
      }
    },
    {
      "cell_type": "markdown",
      "source": [
        "#### <font color=#72DB6B>Exercice 1 : moyenne de chaque étudiant</font> \n"
      ],
      "metadata": {
        "id": "JJNdCqCggXiA"
      }
    },
    {
      "cell_type": "markdown",
      "source": [
        "Calculez et affichez dans un tableau la moyenne de chaque étudiants"
      ],
      "metadata": {
        "id": "sCeRJmTXgXUJ"
      }
    },
    {
      "cell_type": "code",
      "source": [
        "# écrivez votre code ici\n"
      ],
      "metadata": {
        "id": "V3ObZ8NQglCY"
      },
      "execution_count": null,
      "outputs": []
    },
    {
      "cell_type": "markdown",
      "source": [
        "#### <font color=#72DB6B>Exercice 2 : moyenne de chaque matière</font> \n"
      ],
      "metadata": {
        "id": "P46sMvVeg5mz"
      }
    },
    {
      "cell_type": "markdown",
      "source": [
        "Calculez et affichez dans un tableau la moyenne de chaque étudiants"
      ],
      "metadata": {
        "id": "kYv1s31fg5m0"
      }
    },
    {
      "cell_type": "code",
      "source": [
        "# écrivez votre code ici\n"
      ],
      "metadata": {
        "id": "A_TEZaR7g5m0"
      },
      "execution_count": null,
      "outputs": []
    },
    {
      "cell_type": "markdown",
      "source": [
        "#### <font color=#72DB6B>Exercice 3 : nombre d'étudiants ayant la moyenne</font> \n"
      ],
      "metadata": {
        "id": "eEJGVlcvh17k"
      }
    },
    {
      "cell_type": "markdown",
      "source": [
        "Calculez le nombre d'étudiants ayant la moyenne"
      ],
      "metadata": {
        "id": "GW4sdXb5h17k"
      }
    },
    {
      "cell_type": "code",
      "source": [
        "# écrivez votre code ici\n"
      ],
      "metadata": {
        "id": "klDsdnqbh17k"
      },
      "execution_count": null,
      "outputs": []
    },
    {
      "cell_type": "markdown",
      "source": [
        "## <font color=#FD8008>4. Introduction à la librairie *Panda*</font>\n",
        "\n"
      ],
      "metadata": {
        "id": "gCulxHFHmoPz"
      }
    },
    {
      "cell_type": "markdown",
      "source": [
        "<font color=#9BC645>*Pandas*</font> est une des librairies les plus utilisées pour analyser des données. En effet, elle est basée sur <font color=#9BC645>*Numpy*</font> et est dédiée à la manipulation de données en tableau. En outre, elle dispose d'instruction pour \n",
        "* importer des données, \n",
        "* les analyser, \n",
        "* filtrer ou sélectionner certaines données,\n",
        "* visualiser les résultats,\n",
        "* et les exporter.\n",
        "Nous allons ici vous en faire une première introduction, la documentation complète pouvant être trouvée sur [le site de la librairie](https://pandas.pydata.org/)"
      ],
      "metadata": {
        "id": "p1f4-kwRKPe8"
      }
    },
    {
      "cell_type": "markdown",
      "source": [
        "### <font color=#FECC66>4.1 <font color=#9BC645>*Panda*</font> : comprendre le format des données</font>"
      ],
      "metadata": {
        "id": "extEnUbCMtxY"
      }
    },
    {
      "cell_type": "markdown",
      "source": [
        "On l'a dit, <font color=#9BC645>*Panda*</font> se base sur une représentation en tableau basée sur <font color=#9BC645>*Numpy*</font>. Mais <font color=#9BC645>*Panda*</font> va plus loin et permet une représentation comme on l'aurait sur un tableau, avec une notion également d'en-tête des lignes et des colonnes. \n",
        "\n",
        "Ses tableaux s'appelle des DataFrame et il se représentent ainsi : \n",
        "[link text](https://pandas.pydata.org/docs/_images/01_table_dataframe.svg)"
      ],
      "metadata": {
        "id": "oEixNI_rMz27"
      }
    },
    {
      "cell_type": "code",
      "source": [
        "\"Quentin Rey\",\n",
        "\"Charles Olivier\",\n",
        "\"Marcel Coquillage\",\n",
        "\"Anna Fretigny\",\n",
        "\"Elya Coquillage\",\n",
        "\"Johan Leroy\",\n",
        "\"Suzanne Fournier\",\n",
        "\"Iris Faure\",\n",
        "\"Arsène Garnier\",\n",
        "\"Camille Lambrecq\",\n",
        "\"Andréa Klein\",\n",
        "\"William Durand\",\n",
        "\"Ulysse Bertrand\",\n",
        "\"Mathieu Boyer\",\n",
        "\"Sandra Melgares\","
      ],
      "metadata": {
        "id": "2GnIiOTlNuTU"
      },
      "execution_count": null,
      "outputs": []
    },
    {
      "cell_type": "markdown",
      "source": [
        "## <font color=#FD8008>5. Introduction à la librairie *Seaborn*</font>"
      ],
      "metadata": {
        "id": "FpJpMqqosLCd"
      }
    },
    {
      "cell_type": "markdown",
      "source": [
        "1er traitemetn de données\n",
        "\n",
        "1. lecture de données\n",
        "fichier\n",
        "ecriture\n",
        "affichage\n",
        "\n",
        "2. module externe panda et numpy\n",
        "\n",
        "\n",
        "3. première analyse de données"
      ],
      "metadata": {
        "id": "6KvBstLArXh6"
      }
    },
    {
      "cell_type": "markdown",
      "source": [
        "## <font color=#FD8008>6. Exercices</font>"
      ],
      "metadata": {
        "id": "iWeBgYr_seWf"
      }
    },
    {
      "cell_type": "markdown",
      "source": [
        "#### <font color=#72DB6B>Exercice 1 : titre</font> \n",
        "\n"
      ],
      "metadata": {
        "id": "ggpvfu-qNTmJ"
      }
    },
    {
      "cell_type": "markdown",
      "source": [
        "ennoncé"
      ],
      "metadata": {
        "id": "Mav9wZQZO9Jx"
      }
    },
    {
      "cell_type": "code",
      "source": [
        "#Écrivez votre code ici"
      ],
      "metadata": {
        "id": "IjDBsE7uO9J2"
      },
      "execution_count": null,
      "outputs": []
    }
  ]
}