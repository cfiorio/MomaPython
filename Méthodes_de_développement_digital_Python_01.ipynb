{
  "nbformat": 4,
  "nbformat_minor": 0,
  "metadata": {
    "colab": {
      "provenance": [],
      "private_outputs": true,
      "collapsed_sections": [],
      "authorship_tag": "ABX9TyO7NPgfUQD7SQ5IljX8cqVB",
      "include_colab_link": true
    },
    "kernelspec": {
      "name": "python3",
      "display_name": "Python 3"
    },
    "language_info": {
      "name": "python"
    },
    "gpuClass": "standard"
  },
  "cells": [
    {
      "cell_type": "markdown",
      "metadata": {
        "id": "view-in-github",
        "colab_type": "text"
      },
      "source": [
        "<a href=\"https://colab.research.google.com/github/cfiorio/MomaPython/blob/main/M%C3%A9thodes_de_d%C3%A9veloppement_digital_Python_01.ipynb\" target=\"_parent\"><img src=\"https://colab.research.google.com/assets/colab-badge.svg\" alt=\"Open In Colab\"/></a>"
      ]
    },
    {
      "cell_type": "code",
      "source": [],
      "metadata": {
        "id": "ABnTykMZ-ov6"
      },
      "execution_count": null,
      "outputs": []
    },
    {
      "cell_type": "markdown",
      "source": [
        "<p><img align=\"top\", src=\"data:image/png;base64,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\"></img>\n",
        "<font size=\"6px\" color=#EB5253>\n",
        "Méthodes de développement digital - Python</font></p>"
      ],
      "metadata": {
        "id": "iAGLdIaVJMJ5"
      }
    },
    {
      "cell_type": "markdown",
      "source": [
        "# <font color=#A25004>I. Notions de bases en programmation</font>"
      ],
      "metadata": {
        "id": "GFDwo6jHUE5w"
      }
    },
    {
      "cell_type": "markdown",
      "source": [
        "## <font color=#FD8008>1. Algorithme</font>\n"
      ],
      "metadata": {
        "id": "RiVfDBw6rOhL"
      }
    },
    {
      "cell_type": "markdown",
      "source": [
        "> <font color=#66CCFF>**Définition**</font> *Un* <font color=#FC6666>algorithme</font> *est une description précise d’une suite d’opérations permettant d’obtenir, en un temps fini, la solution d’un problème.*\n",
        "\n",
        "\n",
        "De manière informelle :\n",
        "un algorithme est une séquence d'opérations *bien définie*, qui prend en\n",
        "<font color=#9BC645>*données*</font> une valeur ou un ensemble de valeurs et qui produit en résultat une valeur ou un ensemble de valeurs.\n",
        "\n",
        "Cette suite d'opérations est *bien définie*, et prend en\n",
        "<font color=#**CCFF66**>*donnée*</font> une valeur ou un ensemble de valeurs et qui produit en <font color=#**CCFF66**>résultat</font> une valeur ou un ensemble de valeurs.\n",
        "\n",
        "Un algorithme est générique : il permet de répondre quelque soit la donnée qu'il reçoit. Autrement dit, une fois qu'on l'a écrit, il peut être réutilisé autant de fois que je vous le souhaitez !\n",
        "\n"
      ],
      "metadata": {
        "id": "Xa-G2zBE46-o"
      }
    },
    {
      "cell_type": "markdown",
      "source": [
        "## <font color=#FD8008>2. Notion de type</font>"
      ],
      "metadata": {
        "id": "yLQRQEbWtZXz"
      }
    },
    {
      "cell_type": "markdown",
      "source": [
        "> <font color=#66CCFF>**Définition :**</font> *Un type de donnée se définit par un* <font color=#FC6666>nom</font>*, un* <font color=#FC6666>domaine de valeurs</font> *et un* <font color=#FC6666>ensemble d'opérations</font> *définies sur un sous-ensemble (qui peut être l'ensemble entier) des valeurs du domaine.*\n",
        "\n",
        "En précisant le type d'une donnée, on précise en fait :\n",
        "*   l'ensemble des valeurs que peut prendre cette donnée ;\n",
        "*   l'ensemble des opérations autorisées (sur les types de base, le plus souvent des opérateurs arithmétiques, logiques et de comparaison).\n"
      ],
      "metadata": {
        "id": "-D7sdwks40_2"
      }
    },
    {
      "cell_type": "code",
      "source": [
        "#type d'une valeur entière :\n",
        "type(3)"
      ],
      "metadata": {
        "id": "Tk0kwZEqPsWT"
      },
      "execution_count": null,
      "outputs": []
    },
    {
      "cell_type": "code",
      "source": [
        "#type d'une expression entière :\n",
        "type(3+2)"
      ],
      "metadata": {
        "id": "vne2y4SKTq2k"
      },
      "execution_count": null,
      "outputs": []
    },
    {
      "cell_type": "code",
      "source": [
        "3+2"
      ],
      "metadata": {
        "id": "ZeWTDPgRxo-p"
      },
      "execution_count": null,
      "outputs": []
    },
    {
      "cell_type": "code",
      "source": [
        "# type d'une valeur \"réelle\"\n",
        "type(3.0)"
      ],
      "metadata": {
        "id": "ECAx1P3-QGdf"
      },
      "execution_count": null,
      "outputs": []
    },
    {
      "cell_type": "code",
      "source": [
        "#type d'une expression \"réelle\"\n",
        "type(3.0*2)"
      ],
      "metadata": {
        "id": "T1ENxuw0T8zH"
      },
      "execution_count": null,
      "outputs": []
    },
    {
      "cell_type": "code",
      "source": [
        "#type d'une expression ?\n",
        "\n",
        "# cas 1\n",
        "type(4/2)"
      ],
      "metadata": {
        "id": "ZyzFqFEYTqqE"
      },
      "execution_count": null,
      "outputs": []
    },
    {
      "cell_type": "code",
      "source": [
        "#cas 2\n",
        "type(3*2)"
      ],
      "metadata": {
        "id": "p0mfgGBNUX7h"
      },
      "execution_count": null,
      "outputs": []
    },
    {
      "cell_type": "code",
      "source": [
        "# type d'une valeur \"texte\"\n",
        "type(\"Hello\")"
      ],
      "metadata": {
        "id": "79TFh1S9QKD8"
      },
      "execution_count": null,
      "outputs": []
    },
    {
      "cell_type": "code",
      "source": [
        "# type d'une expression \"texte\"\n",
        "type(\"Hello\"+\" \"+\"World\")"
      ],
      "metadata": {
        "id": "pQbr0rzzQm41"
      },
      "execution_count": null,
      "outputs": []
    },
    {
      "cell_type": "code",
      "source": [
        "\"Hello\"+\"World\""
      ],
      "metadata": {
        "id": "31jyT_u3yz0Z"
      },
      "execution_count": null,
      "outputs": []
    },
    {
      "cell_type": "code",
      "source": [
        "# type d'une valeur \"booléenne\"\n",
        "type(False)"
      ],
      "metadata": {
        "id": "e6e4UsIiQRrL"
      },
      "execution_count": null,
      "outputs": []
    },
    {
      "cell_type": "code",
      "source": [
        "# type d'une expression \"booléenne\"\n",
        "type(3==(2+1))"
      ],
      "metadata": {
        "id": "PRQGcHTiQcp0"
      },
      "execution_count": null,
      "outputs": []
    },
    {
      "cell_type": "markdown",
      "source": [
        "## <font color=#FD8008>3. Variable, expression, affectation</font>"
      ],
      "metadata": {
        "id": "0YwF7DnnP_91"
      }
    },
    {
      "cell_type": "markdown",
      "source": [
        "### <font color=#FECC66>3.1 Variables</font>"
      ],
      "metadata": {
        "id": "bcxIxvHvvSi9"
      }
    },
    {
      "cell_type": "markdown",
      "source": [
        "Une <font color=#FC6666>*variable*</font> sert à stocker de l’information. \n",
        "\n",
        "our employer une image, une variable est une boîte qui sera repérée par un nom et l’on peut changer autant de fois que l’on veut le contenu de la boîte.\n",
        "Vous pouvez également assimiler une variable à une cellule d'un tableau, le nom de la variable étant alors le nom de la cellule (une cellule est en général repérée par ses indices, par exemple A2 dans un tableau excel : un indice de ligne et un de colonne).\n",
        "\n",
        "\n",
        "La valeur de la variable peut changer au cours de l’exécution de l’algorithme, comme quand vous changez manuellement la valeur d'une cellule au milieu de votre raisonnement. Donner une valeur à une variable remplace toujours la valeur qui y était stocker avant, on appelle ça une  *affectation*).\n",
        "\n",
        "Chaque variable est un triplé <font color=#9BC645>*(nom, type, valeur)*</font> où la valeur n’est pas fixe et peut évoluer au cours de l’algorithme."
      ],
      "metadata": {
        "id": "RHxv1w8a4vgE"
      }
    },
    {
      "cell_type": "markdown",
      "source": [
        "### <font color=#FECC66>3.2 Expression</font>"
      ],
      "metadata": {
        "id": "5SUupRPWwjA9"
      }
    },
    {
      "cell_type": "markdown",
      "source": [
        "Une expression permet de désigner le calcul d’une certaine valeur à partir d’éléments pouvant être évalués et reliés par des opérateurs. \n",
        "\n",
        "> <font color=#66CCFF>**Définition :**</font> Une expression de type ```T```\n",
        " est \n",
        ">*   une <font color=#9BC645>*valeur*</font> de type ```T``` ;\n",
        "*   Le <font color=#9BC645>*nom*</font> d'une variable de type ```T``` ;\n",
        "* une <font color=#9BC645>*combinaison*</font> de valeurs, de variables et d'expressions de type ```T```\n",
        "\n",
        "Pour reprendre l'analogie avec une feuille de tableur, une expression peut être :\n",
        "* une valeur dans une cellule\n",
        "* le nom d'une cellule\n",
        "* une formule dans une cellule utilisant des valeurs et d'autres cellules, par exemple \"*=(A1+A2)/B1*\"\n"
      ],
      "metadata": {
        "id": "rL6ZliFD4de7"
      }
    },
    {
      "cell_type": "code",
      "source": [
        "#Exemple :\n",
        "3*12"
      ],
      "metadata": {
        "id": "qs93k5zyCclT"
      },
      "execution_count": null,
      "outputs": []
    },
    {
      "cell_type": "code",
      "source": [
        "x"
      ],
      "metadata": {
        "id": "v0-aHb5l0cWn"
      },
      "execution_count": null,
      "outputs": []
    },
    {
      "cell_type": "markdown",
      "source": [
        "### <font color=#FECC66>3.3 Intruction et Affectation</font>"
      ],
      "metadata": {
        "id": "zruWaH7yyEAc"
      }
    },
    {
      "cell_type": "markdown",
      "source": [
        "#### <font color=#72DB6B>3.3.1 Instruction</font>"
      ],
      "metadata": {
        "id": "WYpd61Wk_DOC"
      }
    },
    {
      "cell_type": "markdown",
      "source": [
        "Une instruction ne s'évalue pas, contrairement à une expression.\n",
        "Une instruction réalise une opération déterminée."
      ],
      "metadata": {
        "id": "_vwVB5ekCSyU"
      }
    },
    {
      "cell_type": "code",
      "source": [
        "# Exemple d'instruction : \n",
        "print(\"bonjour\")\n",
        "# quand vous l'exécutez, cette instrucution ne renvoie pas de valeur, mais effectue une action : elle affiche un message"
      ],
      "metadata": {
        "id": "fx9gyKPrM7Nb"
      },
      "execution_count": null,
      "outputs": []
    },
    {
      "cell_type": "markdown",
      "source": [
        "L'instruction ```print``` ne renvoie pas de valeur mais son effet est visible"
      ],
      "metadata": {
        "id": "LC7POJLHcUBr"
      }
    },
    {
      "cell_type": "markdown",
      "source": [
        "#### <font color=#72DB6B>3.3.2 Affectation</font>"
      ],
      "metadata": {
        "id": "zetsucuAoyoR"
      }
    },
    {
      "cell_type": "code",
      "source": [
        "w = 12\n",
        "# quand vous l'exécutez, cette instrucution ne renvoie pas de valeur, contrairement aux expressions ci-dessus"
      ],
      "metadata": {
        "id": "_hRNbmYes84O"
      },
      "execution_count": null,
      "outputs": []
    },
    {
      "cell_type": "markdown",
      "source": [
        "L'<font color=#FC6666>affectation</font> est l'instruction la plus importante en informatique, et aussi la plus simple :\n",
        "\n",
        "> <font color=#66CCFF>**Définition :**</font> L'affectation consiste à attribuer une valeur à une variable ; l'opérateur d'affectation se note ```=```\n",
        "\n",
        "Dans une instruction d’affectation, il y a donc deux parties, la <font color=#9BC645>*partie gauche*</font> constituée de l’identifiant de la variable et la <font color=#9BC645>*partie droite*</font> représentant une <font color=#9BC645>expression</font> dont la valeur est à affecter à la variable :\n",
        "1.   Une instruction d’affectation <font color=#9BC645>*ne modifie*</font> que ce qui est situé <font color=#9BC645>*à gauche*</font> de l’opérateur d’affectation ```=```\n",
        "2.   Une instruction d’affectation est constituée à gauche d’une <font color=#9BC645>*variable*</font>, à droite d’une <font color=#9BC645>*expression*</font>, les deux parties étant reliées par l’opérateur d’affectation ```=```\n",
        "3.   Les deux parties, la variable et l’expression doivent absolument être du <font color=#9BC645>*même type*</font>\n",
        "\n",
        "La syntaxe générale d’une affectation est donc : ```var = expression```"
      ],
      "metadata": {
        "id": "u8n4ipsTNKYu"
      }
    },
    {
      "cell_type": "markdown",
      "source": [
        "Dans la plupart des langages de programmation, une variable doit être  <font color=#FC6666>*déclarée*</font> pour préciser son <font color=#9BC645>*type*</font> avant de s'en servir (afin de définir correctement ce triplet <font color=#9BC645>*nom, type, valeur*</font>.\n",
        "\n",
        "Mais en python ce n'est pas la peine : il devine automatiquement le type de la variable en fonction de la valeur que vous lui donnez : <font color=#FC6666>affecter une valeur à une nouvelle variable revient à déclarer cette variable*</font>.\n",
        "\n",
        "En Python, l'affectation sert donc à la fois à <font color=#9BC645>*modifier la valeur d'une variable*</font> comme dans tous les langages, mais aussi à <font color=#9BC645>*définir*</font> les variables."
      ],
      "metadata": {
        "id": "JO9v1zcnnvqt"
      }
    },
    {
      "cell_type": "markdown",
      "source": [
        "#### <font color=#66CCFF>**Exemples**</font> de défnition d'une variable python, expression et modification d'une variable"
      ],
      "metadata": {
        "id": "4v0nJp-KUhPf"
      }
    },
    {
      "cell_type": "markdown",
      "source": [
        "Nous définissons une <font color=#9BC645>*variable*</font> qui a pour nom ```note``` et qui contient la valeur ```15.5```"
      ],
      "metadata": {
        "id": "QmFkwdhcU04N"
      }
    },
    {
      "cell_type": "code",
      "source": [
        "# Déclaration d'une variable et affectation d'une première valeur à cette variable : \n",
        "note = 15.5\n",
        "type(note)\n"
      ],
      "metadata": {
        "id": "SifHajeaCPiW"
      },
      "execution_count": null,
      "outputs": []
    },
    {
      "cell_type": "code",
      "source": [
        "note"
      ],
      "metadata": {
        "id": "X3vFkbeq0kAU"
      },
      "execution_count": null,
      "outputs": []
    },
    {
      "cell_type": "markdown",
      "source": [
        "Comme indiqué, la valeur peut changer, on peut donc faire :"
      ],
      "metadata": {
        "id": "yIvjsJJvqyK9"
      }
    },
    {
      "cell_type": "code",
      "source": [
        "note = 12\n",
        "print(\"la note est \"+str(note)) # note est un entier, il faut le convertir en texte (string) avant de pouvoir l'aditionner à une string"
      ],
      "metadata": {
        "id": "ab169rbGVKJf"
      },
      "execution_count": null,
      "outputs": []
    },
    {
      "cell_type": "markdown",
      "source": [
        "On peut faire des opérations avec une variable, c'est à dire définir les utiliser dans une <font color=#9BC645>*expression*</font>"
      ],
      "metadata": {
        "id": "q9ayDLK2Vdtb"
      }
    },
    {
      "cell_type": "code",
      "source": [
        "note == note + 3"
      ],
      "metadata": {
        "id": "-pLbjwRwVmjz"
      },
      "execution_count": null,
      "outputs": []
    },
    {
      "cell_type": "code",
      "source": [
        "note"
      ],
      "metadata": {
        "id": "EpXwFt5s1ov-"
      },
      "execution_count": null,
      "outputs": []
    },
    {
      "cell_type": "markdown",
      "source": [
        "On peut définir une variable à partir d'une expression et de la variable note, on utilise pour cela l'instruction d'affectation"
      ],
      "metadata": {
        "id": "K8CtX5GFVsUU"
      }
    },
    {
      "cell_type": "code",
      "source": [
        "somme = note + 14\n",
        "moyenne = somme / 2\n",
        "print(moyenne)"
      ],
      "metadata": {
        "id": "6EJInwniVxdw"
      },
      "execution_count": null,
      "outputs": []
    },
    {
      "cell_type": "markdown",
      "source": [
        "On peut également modifier une variable à partir d'elle-même "
      ],
      "metadata": {
        "id": "ACn0SeqwwFl6"
      }
    },
    {
      "cell_type": "code",
      "source": [
        "print(note)\n",
        "note = note + 3\n",
        "print(note)"
      ],
      "metadata": {
        "id": "gVe9WdFZwJo_"
      },
      "execution_count": null,
      "outputs": []
    },
    {
      "cell_type": "markdown",
      "source": [
        "<font color=#66CCFF>**Exercice**</font> Expliquez comment retirer 1/3 de la valeur d'une variable ```x``` pour le donner à une autre variable ```y``` :"
      ],
      "metadata": {
        "id": "wTG9uDmyV9YE"
      }
    },
    {
      "cell_type": "markdown",
      "source": [
        "*expliquez ici (en modifiant le texte) comment faire selon vous*"
      ],
      "metadata": {
        "id": "Qhuif_6rCvjM"
      }
    },
    {
      "cell_type": "code",
      "source": [
        "# compléter le code pour réaliser l'opération de l'exercice ci-dessus\n",
        "x = 50 \n",
        "y = 20\n",
        "# je souhaite enlever 1/3 de x pour l'ajouter à y\n",
        "#écrivez votre code ci-dessous"
      ],
      "metadata": {
        "id": "Lm8h3i-zrUvW"
      },
      "execution_count": null,
      "outputs": []
    },
    {
      "cell_type": "markdown",
      "source": [
        "### <font color=#FECC66>3.4 Entrer des données</font>"
      ],
      "metadata": {
        "id": "_1VbkM4Dsr2q"
      }
    },
    {
      "cell_type": "markdown",
      "source": [
        "Pour l'instant, les valeurs des variables sont directement indiquées dans le code. Faire un programme pour analyser des données, suppose pouvoir le faire avec différentes données. Modifier à chaque fois son programme lorsque l'on veut analyser de nouvelles données n'est pas acceptable, il faut donc pouvoir indiquer à un programme sur quelles données travailler.\n",
        "\n",
        "Il y a deux moyens pour cela :\n",
        "\n",
        "1. les entrer au clavier à la demande du programme\n",
        "2. donner au programme un ou plusieurs fichiers (*csv* par exemple) contenant les données à analyser"
      ],
      "metadata": {
        "id": "Y60_EuBGswNp"
      }
    },
    {
      "cell_type": "markdown",
      "source": [
        "On commencera ici par expliquer comment entrer des données au clavier. On verra plus tard comment lire des fichiers de données *csv*.\n",
        "\n",
        "Pour demander à l'utilisateur d'entrer une donnée au clavier, il faut utiliser l'instruction ```input```. Celle-ci s'emploie ainsi :\n",
        "\n",
        "```nom_variable = input(message_à_afficher)```\n",
        "\n",
        "<font color=#66CCFF>**Exemple**</font>"
      ],
      "metadata": {
        "id": "L_x-molVtoBv"
      }
    },
    {
      "cell_type": "code",
      "source": [
        "prenom = input(\"quel est votre prénom ? \")\n",
        "nom = input(\"quel est votre nom ? \")\n",
        "print(\"Vous vous appelez\",prenom,nom)"
      ],
      "metadata": {
        "id": "LMpYPy3CuTBF"
      },
      "execution_count": null,
      "outputs": []
    },
    {
      "cell_type": "markdown",
      "source": [
        "Nous avons donc pu saisir le prénom et le nom de la personne.\n",
        "\n",
        "Qu'en est-il des données numérique ?"
      ],
      "metadata": {
        "id": "8sOqUgYBvXzF"
      }
    },
    {
      "cell_type": "code",
      "source": [
        "age = input(\"quel est votre âge ? \")\n",
        "print(\"vous avez\",age, \"ans\")"
      ],
      "metadata": {
        "id": "XODJjvIhvj2I"
      },
      "execution_count": null,
      "outputs": []
    },
    {
      "cell_type": "markdown",
      "source": [
        "Cela semble fonctionner, essayons de faire une opération avec cette donnée :"
      ],
      "metadata": {
        "id": "6ZBCSMwyvuH0"
      }
    },
    {
      "cell_type": "code",
      "source": [
        "age = input(\"quel est votre âge ? \")\n",
        "print(\"vous êtes né•e• en\",2022-age)"
      ],
      "metadata": {
        "id": "rSoazMsfvzAi"
      },
      "execution_count": null,
      "outputs": []
    },
    {
      "cell_type": "markdown",
      "source": [
        "Que se passe-t-il lorsque vous exécutez le code ? Pourquoi ?\n",
        "\n",
        "*Écrivez votre réponse en remplaçant ce texte*"
      ],
      "metadata": {
        "id": "QvVWiSWnwApg"
      }
    },
    {
      "cell_type": "code",
      "source": [
        "#maintenant que vous avez eu les explications, corrigez le code ci-dessous pour qu'il fonctionne\n",
        "age = input(\"quel est votre âge ? \")\n",
        "# corrigez la ligne ci-dessous\n",
        "print(\"vous êtes né•e• en\",2022-age)"
      ],
      "metadata": {
        "id": "uq6iyNDZv_Ko"
      },
      "execution_count": null,
      "outputs": []
    },
    {
      "cell_type": "markdown",
      "source": [
        "## <font color=#FD8008>4. Exercices</font>"
      ],
      "metadata": {
        "id": "vM9tYK3nOym6"
      }
    },
    {
      "cell_type": "markdown",
      "source": [
        "#### <font color=#72DB6B>Exercice 1</font>"
      ],
      "metadata": {
        "id": "j9B5NdN4oGfh"
      }
    },
    {
      "cell_type": "markdown",
      "source": [
        "On définit les variables suivantes :"
      ],
      "metadata": {
        "id": "H1VFmk_-e9Mj"
      }
    },
    {
      "cell_type": "code",
      "source": [
        "import math # permet d'importer les fonctions mathématiques, notamment la fonction sinus utilisée ci-dessous\n",
        "x = 5\n",
        "y = 8\n",
        "r = False\n",
        "z = 2.0"
      ],
      "metadata": {
        "id": "mBHk3p3y_Svw"
      },
      "execution_count": null,
      "outputs": []
    },
    {
      "cell_type": "markdown",
      "source": [
        "On voudrait réaliser les opérations suivantes :\n",
        "\n",
        "```\n",
        "1. ((x<y) and r) # and opération booléenne vrai uniquement si les deux arguments sont vrai\n",
        "2. (2 + (3*(x-y)))\n",
        "3. math.sin(z)\n",
        "4. ((a*x)+b)\n",
        "5. ((x+(y+1))/2)\n",
        "```\n",
        "Quels sont, selon vous, les résultats que l'on obtient ? Expliquez le résultat.\n"
      ],
      "metadata": {
        "id": "mP6yQsmyskFS"
      }
    },
    {
      "cell_type": "markdown",
      "source": [
        "*Répondez dans un premier temps en écrivant la solution que vous pensez obtenir en complétant le texte ci-dessous* :\n",
        "\n",
        "1. solution de l'expression 1 :\n",
        "2. solution de l'expression 2 :\n",
        "3. solution de l'expression 3 :\n",
        "4. solution de l'expression 4 :\n",
        "5. solution de l'expression 5 :"
      ],
      "metadata": {
        "id": "Ax7o0Q4Zs7f9"
      }
    },
    {
      "cell_type": "markdown",
      "source": [
        "Écrivez le code correspondant à chaque expression pour évaluer le résultat et vérifier votre réponse ci-dessus\n",
        "\n",
        "Vous traiterez chaque expressions dans des cellules de code et de texte différentes sous le modèle ci-dessous"
      ],
      "metadata": {
        "id": "7AoazFYqDWY8"
      }
    },
    {
      "cell_type": "code",
      "source": [
        "# 1. Code de l'expression 1 — à compléter"
      ],
      "metadata": {
        "id": "quoO0d_2zoj_"
      },
      "execution_count": null,
      "outputs": []
    },
    {
      "cell_type": "markdown",
      "source": [
        "*Explication du résultat de l'expression 1*"
      ],
      "metadata": {
        "id": "t_aINAVlztbq"
      }
    },
    {
      "cell_type": "code",
      "source": [
        "# 2. Code de l'expression 2 — à compléter"
      ],
      "metadata": {
        "id": "05K5rAgQz2WA"
      },
      "execution_count": null,
      "outputs": []
    },
    {
      "cell_type": "markdown",
      "source": [
        "*Explication du résultat de l'expression 2*"
      ],
      "metadata": {
        "id": "U2WaX00Nz2WA"
      }
    },
    {
      "cell_type": "code",
      "source": [
        "# 3. Code de l'expression 3 — à compléter"
      ],
      "metadata": {
        "id": "yd7FiTJdz2uS"
      },
      "execution_count": null,
      "outputs": []
    },
    {
      "cell_type": "markdown",
      "source": [
        "*Explication du résultat de l'expression 3*"
      ],
      "metadata": {
        "id": "wCv77M-nz2uS"
      }
    },
    {
      "cell_type": "code",
      "source": [
        "# 4. Code de l'expression 4 — à compléter"
      ],
      "metadata": {
        "id": "Ec3JPgh8z22v"
      },
      "execution_count": null,
      "outputs": []
    },
    {
      "cell_type": "markdown",
      "source": [
        "*Explication du résultat de l'expression 4*"
      ],
      "metadata": {
        "id": "_d6ToJFiz22v"
      }
    },
    {
      "cell_type": "code",
      "source": [
        "# 5. Code de l'expression 5 — à compléter"
      ],
      "metadata": {
        "id": "LN7MFzncz2-0"
      },
      "execution_count": null,
      "outputs": []
    },
    {
      "cell_type": "markdown",
      "source": [
        "*Explication du résultat de l'expression 5*"
      ],
      "metadata": {
        "id": "eYCoTmh5z2-0"
      }
    },
    {
      "cell_type": "markdown",
      "source": [
        "#### <font color=#72DB6B>Exercice 2</font> "
      ],
      "metadata": {
        "id": "uGkf9saU7URr"
      }
    },
    {
      "cell_type": "markdown",
      "source": [
        "*Jean*, *Anna* et *Céline* possèdent respectivement ```sa```, ```sb```, ```sc``` euros (valeurs non nulles) le matin. Mais :\n",
        "\n",
        "* Le matin, *Jean*, qui a des loisirs, va porter à *Anna* la moitié de sa fortune\n",
        "* À midi, *Anna*, qui ne veut pas être en reste, va porter à *Céline* la moitié de sa (nouvelle) fortune\n",
        "* Le soir, *Céline*, galvanisée par l’exemple, se précipite chez *Jean* pour lui donner la moitié de sa (nouvelle) fortune.\n",
        "\n",
        "Écrire ci-dessous, un algorithme qui calcule les fortunes respectives de *Jean*, *Anna* et *Céline* le soir venu.\n",
        "\n",
        "Pour cela, vous définirez 3 variables ```sa```, ```sb``` et ```sc``` contenant les fortunes initiales et vous demandez à l'utilisateur de saisir ces valeurs."
      ],
      "metadata": {
        "id": "0YAA3ZMefC99"
      }
    },
    {
      "cell_type": "code",
      "source": [
        "#écrivez votre code ici"
      ],
      "metadata": {
        "id": "qrAN6M1D-Kr5"
      },
      "execution_count": null,
      "outputs": []
    },
    {
      "cell_type": "markdown",
      "source": [
        "Vous pouvez relancer votre programme et vous pouvez entrer de nouvelles valeurs à l'invite du programme pour essayer avec d'autres valeurs sans avoir à changer votre programme."
      ],
      "metadata": {
        "id": "R_JNsXGe-bPA"
      }
    },
    {
      "cell_type": "markdown",
      "source": [
        "#### <font color=#72DB6B>Exercice 3</font> "
      ],
      "metadata": {
        "id": "J4bGOm_Tu5qS"
      }
    },
    {
      "cell_type": "markdown",
      "source": [
        "Demandez à l'utilisateur d'entrée deux valeurs numériques dans deux variables ```x``` et ```y```, échangez les valeurs des deux variables et afficher le double de ```x``` *(qui doit donc être le double de la valeur y entrée par l'utilisateur)*."
      ],
      "metadata": {
        "id": "cPNc-5qCfKDG"
      }
    },
    {
      "cell_type": "code",
      "source": [
        "# écrivez votre programme"
      ],
      "metadata": {
        "id": "apjB_TJXvFWo"
      },
      "execution_count": null,
      "outputs": []
    },
    {
      "cell_type": "markdown",
      "source": [
        "#### <font color=#72DB6B>Exercice 4 : </font> Conversion"
      ],
      "metadata": {
        "id": "QUwyUV_5y2mS"
      }
    },
    {
      "cell_type": "markdown",
      "source": [
        "Écrire un programme, qui, étant donné un temps non nul exprimé en secondes donné par l'utilisateur, le convertit en heures, minutes et secondes et affiche le résultat."
      ],
      "metadata": {
        "id": "5Fw9ETZ9fOmM"
      }
    },
    {
      "cell_type": "code",
      "source": [
        "# écrivez votre programme"
      ],
      "metadata": {
        "id": "YOb_UhuSzI4j"
      },
      "execution_count": null,
      "outputs": []
    }
  ]
}