{
  "nbformat": 4,
  "nbformat_minor": 0,
  "metadata": {
    "colab": {
      "provenance": [],
      "collapsed_sections": [
        "qJ8cowARfwVi",
        "Kz7kDweeVM-X",
        "43go_ym9g_wV",
        "uGkf9saU7URr",
        "TJMJcq_r6qWp"
      ],
      "authorship_tag": "ABX9TyPjbkV8+gZAZ3nRB2nHa29P",
      "include_colab_link": true
    },
    "kernelspec": {
      "name": "python3",
      "display_name": "Python 3"
    },
    "language_info": {
      "name": "python"
    }
  },
  "cells": [
    {
      "cell_type": "markdown",
      "metadata": {
        "id": "view-in-github",
        "colab_type": "text"
      },
      "source": [
        "<a href=\"https://colab.research.google.com/github/cfiorio/MomaPython/blob/main/M%C3%A9thodes_de_d%C3%A9veloppement_digital_Python_03.ipynb\" target=\"_parent\"><img src=\"https://colab.research.google.com/assets/colab-badge.svg\" alt=\"Open In Colab\"/></a>"
      ]
    },
    {
      "cell_type": "markdown",
      "source": [
        "<p><img align=\"top\", src=\"data:image/png;base64,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\"></img>\n",
        "<font size=\"6px\" color=#EB5253>\n",
        "Méthodes de développement digital - Python</font></p>"
      ],
      "metadata": {
        "id": "iAGLdIaVJMJ5"
      }
    },
    {
      "cell_type": "markdown",
      "source": [
        "# <font color=#FD8008>III. Rendre intelligent un programme ?!</font>"
      ],
      "metadata": {
        "id": "Y2xgQMG8HPj4"
      }
    },
    {
      "cell_type": "markdown",
      "source": [
        "## <font color=#FFFF0A>1. Les alternatives ou tests</font>"
      ],
      "metadata": {
        "id": "_aEgT26vVbGm"
      }
    },
    {
      "cell_type": "markdown",
      "source": [
        "On a vu jusqu'ici des exemples de programmes qui traitait les données entrées en paramètres mais sans vraiment pouvoir s'adapter aux données et prendre des décision en fonction de la valeur de celle-ci."
      ],
      "metadata": {
        "id": "lL43nymdHXAO"
      }
    },
    {
      "cell_type": "markdown",
      "source": [
        "Ces expressions booléenne vont donc pouvoir nous permettre de vérifier des conditions puis de prendre des décisions. "
      ],
      "metadata": {
        "id": "LysOTv7De-bU"
      }
    },
    {
      "cell_type": "markdown",
      "source": [
        "### <font color=#FECC66>1.1 Conditions booléennes</font>"
      ],
      "metadata": {
        "id": "qJ8cowARfwVi"
      }
    },
    {
      "cell_type": "markdown",
      "source": [
        "À l'exercice 4 du précédent notebook, plutôt que vous donner les valeurs des notes inférieures à 10, il aurait été préférable que le programme retire une note si celle-ci est inférieure à 10. On a donc besoin de vérifier des <font color=#FC6666>*condition</font> et prendre des décisions en fonction de celle-ci.\n",
        "\n",
        "\n",
        "> <font color=#66CCFF>**Définition :**</font> *Une* <font color=#FC6666>condition</font> *est une expression booléenne ; le résultat d'une condition est donc soit vrai : ```True``` ou faux : ```False```.*"
      ],
      "metadata": {
        "id": "RyV9BTRO4AmY"
      }
    },
    {
      "cell_type": "markdown",
      "source": [
        "#### <font color=#CCFF66>1.1.1 Opérateurs de comparaison</font>\n",
        "\n",
        "Pour définir ces expressions booléennes on pourra utiliser des opérateurs de comparaisons. Comme leur nom l'indique, ils permettent de comparer des valeurs les unes avec les autres.\n",
        "\n",
        "Bien sûr, ces expressions peuvent aussi être affectées à une variable qui est alors une variable booléenne (cf dernier exemple ci-dessous)"
      ],
      "metadata": {
        "id": "KZRgMCP6aXKw"
      }
    },
    {
      "cell_type": "markdown",
      "source": [
        "##### <font color=#66CCFF>Exemples d'expressions booléennes à l'aide d'opérateurs de comparaison :</font>"
      ],
      "metadata": {
        "id": "Kz7kDweeVM-X"
      }
    },
    {
      "cell_type": "code",
      "execution_count": 57,
      "metadata": {
        "colab": {
          "base_uri": "https://localhost:8080/"
        },
        "id": "DfxMpy6je01t",
        "outputId": "75078c05-e74c-493f-d6fe-f423a9cff268"
      },
      "outputs": [
        {
          "output_type": "execute_result",
          "data": {
            "text/plain": [
              "True"
            ]
          },
          "metadata": {},
          "execution_count": 57
        }
      ],
      "source": [
        "#initialisation de la variable\n",
        "note = 12\n",
        "\n",
        "#vérifions si la note est bien égale à 12\n",
        "note == 12"
      ]
    },
    {
      "cell_type": "code",
      "source": [
        "# condition : note supérieure à une valeur ?\n",
        "note > 10"
      ],
      "metadata": {
        "colab": {
          "base_uri": "https://localhost:8080/"
        },
        "id": "PFrii1vSpwo8",
        "outputId": "8e9be928-7cb8-4cb1-b667-b6d1ae7b8a54"
      },
      "execution_count": 58,
      "outputs": [
        {
          "output_type": "execute_result",
          "data": {
            "text/plain": [
              "True"
            ]
          },
          "metadata": {},
          "execution_count": 58
        }
      ]
    },
    {
      "cell_type": "code",
      "source": [
        "# condition : note supérieure à une valeur ?\n",
        "note > 11"
      ],
      "metadata": {
        "colab": {
          "base_uri": "https://localhost:8080/"
        },
        "outputId": "06c418ec-18bf-47a6-8113-1beff4e79396",
        "id": "796k_Yq0ZLBJ"
      },
      "execution_count": 59,
      "outputs": [
        {
          "output_type": "execute_result",
          "data": {
            "text/plain": [
              "True"
            ]
          },
          "metadata": {},
          "execution_count": 59
        }
      ]
    },
    {
      "cell_type": "code",
      "source": [
        "# condition : note supérieure ou égale à une valeur ?\n",
        "note >= 11"
      ],
      "metadata": {
        "colab": {
          "base_uri": "https://localhost:8080/"
        },
        "outputId": "605cf6e0-dc93-443e-a7c8-043c76a480a0",
        "id": "U0F5kdrxZgZk"
      },
      "execution_count": 60,
      "outputs": [
        {
          "output_type": "execute_result",
          "data": {
            "text/plain": [
              "True"
            ]
          },
          "metadata": {},
          "execution_count": 60
        }
      ]
    },
    {
      "cell_type": "code",
      "source": [
        "# condition : note inférieur à une valeur ?\n",
        "note < 12"
      ],
      "metadata": {
        "colab": {
          "base_uri": "https://localhost:8080/"
        },
        "outputId": "747ae1ca-2337-4e47-9e0d-399a3c541498",
        "id": "5_rrKbj1ZRKP"
      },
      "execution_count": 61,
      "outputs": [
        {
          "output_type": "execute_result",
          "data": {
            "text/plain": [
              "False"
            ]
          },
          "metadata": {},
          "execution_count": 61
        }
      ]
    },
    {
      "cell_type": "code",
      "source": [
        "# condition : note inférieur ou égale à une valeur ?\n",
        "note <= 12"
      ],
      "metadata": {
        "colab": {
          "base_uri": "https://localhost:8080/"
        },
        "outputId": "2d723e35-ae3a-42ca-e48e-272762940dc4",
        "id": "7VSi329YZlfn"
      },
      "execution_count": 62,
      "outputs": [
        {
          "output_type": "execute_result",
          "data": {
            "text/plain": [
              "True"
            ]
          },
          "metadata": {},
          "execution_count": 62
        }
      ]
    },
    {
      "cell_type": "code",
      "source": [
        "# condition : note différente d'une valeur ?\n",
        "note != 14"
      ],
      "metadata": {
        "colab": {
          "base_uri": "https://localhost:8080/"
        },
        "outputId": "09a6e39e-d3f8-48c5-f96a-654f937a5283",
        "id": "PqSAN8rdZWW6"
      },
      "execution_count": 63,
      "outputs": [
        {
          "output_type": "execute_result",
          "data": {
            "text/plain": [
              "True"
            ]
          },
          "metadata": {},
          "execution_count": 63
        }
      ]
    },
    {
      "cell_type": "code",
      "source": [
        "# résultat stocké dans une variable booléenne\n",
        "success = (note >= 10)\n",
        "print(success)"
      ],
      "metadata": {
        "colab": {
          "base_uri": "https://localhost:8080/"
        },
        "outputId": "a185dbf0-de2c-4699-f962-481f628ac293",
        "id": "62gi7XhQbEKU"
      },
      "execution_count": 64,
      "outputs": [
        {
          "output_type": "stream",
          "name": "stdout",
          "text": [
            "True\n"
          ]
        }
      ]
    },
    {
      "cell_type": "markdown",
      "source": [
        "#### <font color=#CCFF66>1.1.2 Conditions sur les listes</font>\n",
        "\n",
        "On peut bien sûr utiliser certains des opérateurs précédents sur les listes, notamment pour vérifier que deux listes sont identiques ou même si l'une est supérieures à l'autre (*dans le sens : ordre élément par élément comme si on comparait l'ordre alphabétique de deux textes*)\n",
        "\n",
        "On dispose également d'un opérateur propre aux listes, l'opérateur ```in``` qui permet de vérifier si un élément appartient à une liste."
      ],
      "metadata": {
        "id": "JO8Sb1U6bS-y"
      }
    },
    {
      "cell_type": "markdown",
      "source": [
        "Ces expressions booléenne vont donc pouvoir nous permettre de vérifier des conditions puis de prendre des décisions. "
      ],
      "metadata": {
        "id": "P6K3M7upgCN3"
      }
    },
    {
      "cell_type": "markdown",
      "source": [
        "##### <font color=#66CCFF>Exemples d'expressions booléennes sur les listes :</font>"
      ],
      "metadata": {
        "id": "43go_ym9g_wV"
      }
    },
    {
      "cell_type": "code",
      "execution_count": null,
      "metadata": {
        "colab": {
          "base_uri": "https://localhost:8080/"
        },
        "outputId": "eb525559-6c50-4b05-d461-250123630251",
        "id": "ueiUxQjLg_wW"
      },
      "outputs": [
        {
          "output_type": "stream",
          "name": "stdout",
          "text": [
            "les listes notes1 et notes2 sont-elle égales ? :  False\n",
            "les listes notes1 et notes2 sont-elle égales ? :  True\n"
          ]
        }
      ],
      "source": [
        "#initialisation des variables\n",
        "notes1 = [9, 6, 3, 1, 9, 12, 18, 15, 12, 17, 9, 12, 7, 2, 0, 10, 3, 17, 20, 16]\n",
        "notes2 = [9, 6, 3, 1, 9, 12, 18, 15, 12, 17, 9, 12, 7, 2, 0, 1, 3, 17, 20, 16]\n",
        "notes3 = [8, 6, 3, 1, 9, 12, 18, 15, 12, 17, 9, 12, 7, 2, 0, 10, 3, 17, 20, 16]\n",
        "notes4 = [9, 6, 3, 1, 9, 12, 18, 15, 12, 17, 9, 12, 7, 2, 0, 10, 3, 17, 20, 16]\n",
        "\n",
        "#vérifions si les listes sont égales\n",
        "verif1et2 = notes1 == notes2\n",
        "verif1et4 = notes1 == notes4\n",
        "#affichons le résultat\n",
        "print(\"les listes notes1 et notes2 sont-elle égales ? : \",verif1et2)\n",
        "print(\"les listes notes1 et notes2 sont-elle égales ? : \",verif1et4)\n"
      ]
    },
    {
      "cell_type": "code",
      "source": [
        "#peut-on comparer deux listes autrement que par l'égalité ?\n",
        "verif1sup3 = notes1 > notes3\n",
        "verif1sup4 = notes1 > notes4\n",
        "print(\"la liste notes1 est-elle supérieure à la liste notes3 ? : \",verif1sup3)\n",
        "print(\"la liste notes1 est-elle supérieure à la liste notes3 ? : \",verif1sup4)\n"
      ],
      "metadata": {
        "colab": {
          "base_uri": "https://localhost:8080/"
        },
        "id": "PJKQR1TteOXW",
        "outputId": "35bc3f77-c06b-4aee-ea27-9244a27ec7b7"
      },
      "execution_count": 15,
      "outputs": [
        {
          "output_type": "stream",
          "name": "stdout",
          "text": [
            "la liste notes1 est-elle supérieure à la liste notes3 ? :  True\n",
            "la liste notes1 est-elle supérieure à la liste notes4 ? :  False\n"
          ]
        }
      ]
    },
    {
      "cell_type": "code",
      "source": [
        "#un élément appartient-il à la liste ?\n",
        "verif0 = 0 in notes1\n",
        "verif4 = 4 in notes1\n",
        "print(\"0 appartient-il à la listes notes1 ? : \", verif0)\n",
        "print(\"4 appartient-il à la listes notes1 ? : \", verif4)"
      ],
      "metadata": {
        "colab": {
          "base_uri": "https://localhost:8080/"
        },
        "id": "6wuAcYyVfRqy",
        "outputId": "36a2b001-73a0-45bd-cd05-beef8965deb7"
      },
      "execution_count": 16,
      "outputs": [
        {
          "output_type": "stream",
          "name": "stdout",
          "text": [
            "0 appartient-il à la listes notes1 ? :  True\n",
            "4 appartient-il à la listes notes1 ? :  False\n"
          ]
        }
      ]
    },
    {
      "cell_type": "markdown",
      "source": [
        "#### <font color=#CCFF66>1.1.3 Conditions sur les chaînes de caractères</font>\n",
        "\n",
        "Les chaînes de caractères étant une espèce de liste, les opérateurs sur les listes s'appliquent aussi sur les textes (cf exemples ci-dessous)\n",
        "\n",
        "Il existe également des instructions de condition propres aux listes comme :\n",
        "* ```str.startswith()``` : le texte ```str``` commence par...\n",
        "* ```str.endswith()``` : le texte ```str``` finit par...\n",
        "* ```str.islower()``` : le texte ```str``` est en minuscule\n",
        "* ```str.isupper()``` : le texte ```str``` est en majuscule\n",
        "* ```str.isspace()``` : le texte ```str``` n'est-il constitué que d'espaces ?\n",
        "* ```str.isalpha()``` : le texte ```str``` n'est-il constitué que des caractères alphabétiques (sans espace, nombre, ponctuation,...) ?\n",
        "* ```str.isalnum()``` : le texte ```str``` les deux-ci dessus combinés"
      ],
      "metadata": {
        "id": "lbUi9XDSghnm"
      }
    },
    {
      "cell_type": "markdown",
      "source": [
        "##### <font color=#66CCFF>Exemples d'expressions booléennes sur les chaînes de caractères :</font>"
      ],
      "metadata": {
        "id": "tJrYAuEmhBtu"
      }
    },
    {
      "cell_type": "code",
      "execution_count": 22,
      "metadata": {
        "colab": {
          "base_uri": "https://localhost:8080/"
        },
        "outputId": "2084ab3b-db97-4db7-ab44-82107156a709",
        "id": "jcaPg0QBhBtu"
      },
      "outputs": [
        {
          "output_type": "stream",
          "name": "stdout",
          "text": [
            "le caractère 'L' est-il dans le texte ? :  True\n",
            "le texte 'Lorem' est-il dans le texte ? :  True\n",
            "le texte 'christophe' est-il dans le texte ? :  False\n",
            "est-ce que prenom1 est égale à prenom2 ? : False\n",
            "est-ce que prenom1 est égale à prenom3 ? : True\n"
          ]
        }
      ],
      "source": [
        "#initialisation des variables\n",
        "texte = \"Lorem ipsum dolor sit amet, consectetur adipiscing elit. Sed et hendrerit orci. Cras quis sem eu orci lacinia laoreet et a eros. Curabitur molestie, ante vel porttitor sodales, augue dui imperdiet quam, quis dapibus justo leo vel erat. Nunc ultricies ipsum sit amet velit faucibus, id tristique urna posuere.\"\n",
        "prenom1 = \"Christophe\"\n",
        "prenom2 = \"Sylvie\"\n",
        "prenom3 = \"Christophe\"\n",
        "\n",
        "L = 'L' in texte\n",
        "Lorem = \"Lorem\" in texte\n",
        "christophe = \"christophe\" in texte\n",
        "comp1et2 = prenom1 == prenom2\n",
        "comp1et3 = prenom1 == prenom3\n",
        "\n",
        "print(\"le caractère 'L' est-il dans le texte ? : \", L)\n",
        "print(\"le texte 'Lorem' est-il dans le texte ? : \", Lorem)\n",
        "print(\"le texte 'christophe' est-il dans le texte ? : \", christophe)\n",
        "print(\"est-ce que prenom1 est égale à prenom2 ? :\", comp1et2)\n",
        "print(\"est-ce que prenom1 est égale à prenom3 ? :\", comp1et3)\n"
      ]
    },
    {
      "cell_type": "code",
      "source": [
        "#le texte commence-t-il par Lorem ?\n",
        "texte.startswith(\"Lorem\")"
      ],
      "metadata": {
        "colab": {
          "base_uri": "https://localhost:8080/"
        },
        "id": "wIM2iH3ij0jl",
        "outputId": "fddf4b39-dd0f-40ab-dc10-b0fda6d8cde7"
      },
      "execution_count": 24,
      "outputs": [
        {
          "output_type": "execute_result",
          "data": {
            "text/plain": [
              "True"
            ]
          },
          "metadata": {},
          "execution_count": 24
        }
      ]
    },
    {
      "cell_type": "code",
      "source": [
        "#le texte finit-il par Lorem ?\n",
        "texte.endswith(\"Lorem\")"
      ],
      "metadata": {
        "colab": {
          "base_uri": "https://localhost:8080/"
        },
        "id": "1hAzPl0ykFik",
        "outputId": "b003ee57-b84e-4e24-c649-310a9a747eef"
      },
      "execution_count": 25,
      "outputs": [
        {
          "output_type": "execute_result",
          "data": {
            "text/plain": [
              "False"
            ]
          },
          "metadata": {},
          "execution_count": 25
        }
      ]
    },
    {
      "cell_type": "code",
      "source": [
        "#le texte est-il en minuscule ?\n",
        "texte.islower()"
      ],
      "metadata": {
        "colab": {
          "base_uri": "https://localhost:8080/"
        },
        "outputId": "a61d4e80-6b87-43f0-b1d2-08e4c3875bce",
        "id": "0rfd8JvGkoTm"
      },
      "execution_count": 27,
      "outputs": [
        {
          "output_type": "execute_result",
          "data": {
            "text/plain": [
              "True"
            ]
          },
          "metadata": {},
          "execution_count": 27
        }
      ]
    },
    {
      "cell_type": "code",
      "source": [
        "#le texte est-il en majuscule ?\n",
        "texte.isupper()"
      ],
      "metadata": {
        "colab": {
          "base_uri": "https://localhost:8080/"
        },
        "outputId": "9248bb19-9781-4ad5-d36a-2ac5998339ab",
        "id": "C7o55Wu9kzm8"
      },
      "execution_count": 28,
      "outputs": [
        {
          "output_type": "execute_result",
          "data": {
            "text/plain": [
              "False"
            ]
          },
          "metadata": {},
          "execution_count": 28
        }
      ]
    },
    {
      "cell_type": "code",
      "source": [
        "#le texte n'est-il que espaces ?\n",
        "texte.isspace()"
      ],
      "metadata": {
        "colab": {
          "base_uri": "https://localhost:8080/"
        },
        "outputId": "9d9d4ae1-6954-40bb-9d41-56c7419bd2fd",
        "id": "p9Wq1rEKk33B"
      },
      "execution_count": 29,
      "outputs": [
        {
          "output_type": "execute_result",
          "data": {
            "text/plain": [
              "False"
            ]
          },
          "metadata": {},
          "execution_count": 29
        }
      ]
    },
    {
      "cell_type": "code",
      "source": [
        "#le texte n'est-il que espaces ?\n",
        "\"     \".isspace()"
      ],
      "metadata": {
        "colab": {
          "base_uri": "https://localhost:8080/"
        },
        "outputId": "4776f00b-c0b9-4937-8b87-6626d82c381c",
        "id": "PgPNCOZBk93f"
      },
      "execution_count": 31,
      "outputs": [
        {
          "output_type": "execute_result",
          "data": {
            "text/plain": [
              "True"
            ]
          },
          "metadata": {},
          "execution_count": 31
        }
      ]
    },
    {
      "cell_type": "code",
      "source": [
        "#le texte n'est-il que espaces ?\n",
        "\"\".isspace()"
      ],
      "metadata": {
        "colab": {
          "base_uri": "https://localhost:8080/"
        },
        "outputId": "1b43632e-8333-4d08-a191-75cfa9a9c64d",
        "id": "VvF6GTbBlFCO"
      },
      "execution_count": 32,
      "outputs": [
        {
          "output_type": "execute_result",
          "data": {
            "text/plain": [
              "False"
            ]
          },
          "metadata": {},
          "execution_count": 32
        }
      ]
    },
    {
      "cell_type": "code",
      "source": [
        "#le texte représente-t-il un nombre ?\n",
        "\"1\".isalnum()"
      ],
      "metadata": {
        "colab": {
          "base_uri": "https://localhost:8080/"
        },
        "outputId": "1c7bc2c8-5865-4374-d7c4-8644daf6efb0",
        "id": "0FziUg3olHkf"
      },
      "execution_count": 35,
      "outputs": [
        {
          "output_type": "execute_result",
          "data": {
            "text/plain": [
              "True"
            ]
          },
          "metadata": {},
          "execution_count": 35
        }
      ]
    },
    {
      "cell_type": "code",
      "source": [
        "#le texte représente-t-il un nombre ?\n",
        "\"note de 1\".isalnum()"
      ],
      "metadata": {
        "colab": {
          "base_uri": "https://localhost:8080/"
        },
        "outputId": "829aae19-5a03-478d-cc36-e4072cdbd33b",
        "id": "Fw2dy2jYloNY"
      },
      "execution_count": 42,
      "outputs": [
        {
          "output_type": "execute_result",
          "data": {
            "text/plain": [
              "False"
            ]
          },
          "metadata": {},
          "execution_count": 42
        }
      ]
    },
    {
      "cell_type": "code",
      "source": [
        "#le texte ne contient-il que des caractères alphabétique ?\n",
        "\"note de\".isalpha()"
      ],
      "metadata": {
        "colab": {
          "base_uri": "https://localhost:8080/"
        },
        "outputId": "e647cc0b-1cf9-4567-f4e9-05c47b0052f8",
        "id": "yyfFKSxvlqSz"
      },
      "execution_count": 40,
      "outputs": [
        {
          "output_type": "execute_result",
          "data": {
            "text/plain": [
              "False"
            ]
          },
          "metadata": {},
          "execution_count": 40
        }
      ]
    },
    {
      "cell_type": "code",
      "source": [
        "#le texte ne contient-il que des caractères alphabétique ?\n",
        "\"notede\".isalpha()"
      ],
      "metadata": {
        "colab": {
          "base_uri": "https://localhost:8080/"
        },
        "outputId": "75adb94d-cc69-421b-9da8-0b2d0a5b9faf",
        "id": "h8N9upD4ltGm"
      },
      "execution_count": 41,
      "outputs": [
        {
          "output_type": "execute_result",
          "data": {
            "text/plain": [
              "True"
            ]
          },
          "metadata": {},
          "execution_count": 41
        }
      ]
    },
    {
      "cell_type": "code",
      "source": [
        "#le texte ne contient-il que des caractères alphabétique ?\n",
        "\"note de 1\".isalnum()"
      ],
      "metadata": {
        "colab": {
          "base_uri": "https://localhost:8080/"
        },
        "outputId": "7595fdea-bb12-4301-8361-d5e44573627b",
        "id": "8xiOjFDHmURw"
      },
      "execution_count": 46,
      "outputs": [
        {
          "output_type": "execute_result",
          "data": {
            "text/plain": [
              "False"
            ]
          },
          "metadata": {},
          "execution_count": 46
        }
      ]
    },
    {
      "cell_type": "code",
      "source": [
        "#le texte ne contient-il que des caractères alphabétique ?\n",
        "\"notede1\".isalnum()"
      ],
      "metadata": {
        "colab": {
          "base_uri": "https://localhost:8080/"
        },
        "outputId": "20dd79c4-462e-4982-e64f-feed9aabbec0",
        "id": "L5ZKFVVomb37"
      },
      "execution_count": 48,
      "outputs": [
        {
          "output_type": "execute_result",
          "data": {
            "text/plain": [
              "False"
            ]
          },
          "metadata": {},
          "execution_count": 48
        }
      ]
    },
    {
      "cell_type": "markdown",
      "source": [
        "#### <font color=#CCFF66>1.1.4 Opérateurs booléens</font>\n",
        "\n",
        "On a parfois besoin de vérifier plusieurs conditions en même temps. Heureusement Python fournit les opérateurs booléens suivant qui nous aideront à utiliser de multiples conditions en même temps :\n",
        "\n",
        "Il existe également des instructions de condition propres aux listes comme :\n",
        "* ```and``` : les deux conditions sont-elle vraies en même temps ?\n",
        "* ```or``` : l'une des deux conditions est-elle vraie ?\n",
        "* ```not``` : inverser le résultat de la condition\n"
      ],
      "metadata": {
        "id": "cl_AaRQ-o0Oj"
      }
    },
    {
      "cell_type": "markdown",
      "source": [
        "##### <font color=#66CCFF>Exemples d'utilisation des opérateurs booléens :</font>"
      ],
      "metadata": {
        "id": "VyOWDoO3pWzN"
      }
    },
    {
      "cell_type": "code",
      "source": [
        "#la note mérite-elle une mention assez-bien ? \n",
        "note = 13\n",
        "(note >=12) and (note < 14)"
      ],
      "metadata": {
        "colab": {
          "base_uri": "https://localhost:8080/"
        },
        "outputId": "bf06767e-b313-491e-e6c8-b36c0c1ebecb",
        "id": "AK88zCZmpWzT"
      },
      "execution_count": 65,
      "outputs": [
        {
          "output_type": "execute_result",
          "data": {
            "text/plain": [
              "True"
            ]
          },
          "metadata": {},
          "execution_count": 65
        }
      ]
    },
    {
      "cell_type": "code",
      "source": [
        "#y-a-t-il 'Lorem' ou 'Christophe' dans le texte  ? \n",
        "(\"Lorem\" in texte) or (\"Christophe\" in texte)"
      ],
      "metadata": {
        "colab": {
          "base_uri": "https://localhost:8080/"
        },
        "outputId": "7a064c21-5737-437e-c564-e90b90f24231",
        "id": "a5MyKkWYtg_y"
      },
      "execution_count": 66,
      "outputs": [
        {
          "output_type": "execute_result",
          "data": {
            "text/plain": [
              "True"
            ]
          },
          "metadata": {},
          "execution_count": 66
        }
      ]
    },
    {
      "cell_type": "markdown",
      "source": [
        "### <font color=#FECC66>1.2 les alternatives ou test</font>\n"
      ],
      "metadata": {
        "id": "7TQk_JHAox6T"
      }
    },
    {
      "cell_type": "markdown",
      "source": [
        "On sait donc désormais écrire une condition. Mais encore faut-il pouvoir la tester et prendre une décision en fonction de sa valeur. \n",
        "\n",
        "Les <font color=#FC6666>*alternatives*</font> ou <font color=#FC6666>*instructions de test</font> vont nous permettre de faire des choix en fonction des *conditions* que nous aurons calculées. \n",
        "\n",
        "> <font color=#66CCFF>**Définition :**</font> *Un* <font color=#FC6666>test</font> *est une instruction permettant d'exécuter certaines actions ou pas (prendre une décision) en fonction d'une condition booléenne*\n",
        "\n",
        "Sa syntaxe est :\n",
        "```\n",
        "if condition: #si la condition est évaluée à True\n",
        "  action 1.1 #on exécute les actions\n",
        "  action 1.2 #jusqu'au else\n",
        "else: #si la condition a été évaluée à False\n",
        "  action 2.2 #on exécute les actions\n",
        "  action 2.2\n",
        "  action 2.3 #jusqu'à la fin de l'indentation\n",
        "actions suivantes\n",
        "```\n",
        "Attention l'indentation doit <font color=red>*impérativement*</font> être une tabulation.\n",
        "\n",
        "Le ```else:``` n'est pas obligatoire, et on peut se contenter du ```if condition:``` si on ne veut pas faire d'action particulière lorsque la condition est évaluée à ```False```\n",
        "\n",
        "Si on a besoin de vérifier d'autres condition dans le cas où la condition du ```if``` est fausse, on peut utiliser le ```elif``` signifiant *sinon si*\n",
        "\n",
        "Sa syntaxe est :\n",
        "\n",
        "```\n",
        "if condition1: #si condition1 est évaluée à True\n",
        "  action 1 #on exécute l'action 1\n",
        "elif condition2: #sinon (condition1 False), si condition2 est True\n",
        "  action 2 #on exécute l'action 2\n",
        "else: #sinon (condition1 et condition2 False)\n",
        "  action 3 #on exécute l'action 3\n",
        "actions suivantes\n",
        "```\n",
        "\n",
        "Il est également possible \"d'imbriquer\" des tests -- voir exemple ci-dessous -- afin de tester d'autres conditions en fontion d'une première condition.\n",
        "\n",
        "Syntaxe :\n",
        "\n",
        "```\n",
        "if condition1:\n",
        "  action 1\n",
        "  if condition2:\n",
        "    action 1.2\n",
        "  else:\n",
        "    action 1.3\n",
        "else:\n",
        "  action 2\n",
        "```\n",
        "\n",
        "Attention à bien respecter les indentations à l'aide des tabulations."
      ],
      "metadata": {
        "id": "aI1I43us3xZ3"
      }
    },
    {
      "cell_type": "markdown",
      "source": [
        "##### <font color=#66CCFF>Exemples d'utilisation de l'instruction de test</font>"
      ],
      "metadata": {
        "id": "kNchp8qQ1el7"
      }
    },
    {
      "cell_type": "code",
      "source": [
        "#Echec ?\n",
        "if note < 10:\n",
        "  print(\"Échec\")\n",
        "print(\"----------\")"
      ],
      "metadata": {
        "colab": {
          "base_uri": "https://localhost:8080/"
        },
        "id": "IWztfQOZ1k4s",
        "outputId": "3241c27c-bad1-4138-c4f0-1820ff3e8ab4"
      },
      "execution_count": 76,
      "outputs": [
        {
          "output_type": "stream",
          "name": "stdout",
          "text": [
            "----------\n"
          ]
        }
      ]
    },
    {
      "cell_type": "markdown",
      "source": [
        "rien ne doit s'afficher"
      ],
      "metadata": {
        "id": "ch3Eh5FO1vRP"
      }
    },
    {
      "cell_type": "code",
      "source": [
        "#réussite ?\n",
        "if note >= 10:\n",
        "  print(\"Réussite\")\n",
        "print(\"----------\")"
      ],
      "metadata": {
        "colab": {
          "base_uri": "https://localhost:8080/"
        },
        "id": "i6vkmKcI1xI2",
        "outputId": "df5ff61a-edbc-4efb-a3bf-1946524dc548"
      },
      "execution_count": 77,
      "outputs": [
        {
          "output_type": "stream",
          "name": "stdout",
          "text": [
            "Réussite\n",
            "----------\n"
          ]
        }
      ]
    },
    {
      "cell_type": "markdown",
      "source": [
        "\"Réussite\" doit s'afficher"
      ],
      "metadata": {
        "id": "YaHXgSfG1-U3"
      }
    },
    {
      "cell_type": "code",
      "source": [
        "#En un seul test\n",
        "if note < 10:\n",
        "  print(\"Échec\")\n",
        "else:\n",
        "  print(\"Réussite\")\n",
        "print(\"----------\")"
      ],
      "metadata": {
        "colab": {
          "base_uri": "https://localhost:8080/"
        },
        "id": "aRRrfZV_2FYZ",
        "outputId": "072f2786-dd3a-4990-8ce5-24bb82df69ee"
      },
      "execution_count": 78,
      "outputs": [
        {
          "output_type": "stream",
          "name": "stdout",
          "text": [
            "Réussite\n",
            "----------\n"
          ]
        }
      ]
    },
    {
      "cell_type": "markdown",
      "source": [
        "Et vérifions maintenant si il y a une mention très bien"
      ],
      "metadata": {
        "id": "xo0UlSlz2WmJ"
      }
    },
    {
      "cell_type": "code",
      "source": [
        "#tests imbriqué\n",
        "if note<10:\n",
        "  print(\"Échec\")\n",
        "else:\n",
        "  print(\"Réussite\")\n",
        "  if note>16:\n",
        "    print(\"mention très bien\")\n",
        "  else:\n",
        "    print(\"pas de mention\")\n",
        "print(\"----------\")"
      ],
      "metadata": {
        "colab": {
          "base_uri": "https://localhost:8080/"
        },
        "id": "Kf4q8a4e29Z2",
        "outputId": "95b48b7c-764a-46ed-c13c-99ec69c324ba"
      },
      "execution_count": 79,
      "outputs": [
        {
          "output_type": "stream",
          "name": "stdout",
          "text": [
            "Réussite\n",
            "pas de mention\n",
            "----------\n"
          ]
        }
      ]
    },
    {
      "cell_type": "markdown",
      "source": [
        "### <font color=#FECC66>1.3 Exercices</font>"
      ],
      "metadata": {
        "id": "vM9tYK3nOym6"
      }
    },
    {
      "cell_type": "markdown",
      "source": [
        "#### <font color=#CCFF66>Exercice 1 : notation</font> \n",
        "\n"
      ],
      "metadata": {
        "id": "uGkf9saU7URr"
      }
    },
    {
      "cell_type": "markdown",
      "source": [
        "En reprenant l'exemple précédent, modifiez le programme pour : \n",
        "* demander à l'utilisateur sa note\n",
        "* afficher si il a réussi ou pas\n",
        "* afficher sa mention \"*passable*\", \"*assez bien*\", \"*bien*\" ou \"*très bien*\" si il a réussi\n",
        "\n",
        "Vous utilserez un test imbriqué et l'instruction ```elif```\n"
      ],
      "metadata": {
        "id": "KnthVdGC623z"
      }
    },
    {
      "cell_type": "code",
      "source": [
        "#Écrivez votre code ici"
      ],
      "metadata": {
        "id": "I4OJ6HqfOBkv"
      },
      "execution_count": null,
      "outputs": []
    },
    {
      "cell_type": "markdown",
      "source": [
        "#### <font color=#CCFF66>Exercice 2 : Durée de vol</font> \n",
        "\n"
      ],
      "metadata": {
        "id": "TJMJcq_r6qWp"
      }
    },
    {
      "cell_type": "markdown",
      "source": [
        "Une compagnie aérienne désire prévoir les heures d’arrivée de ses vols (on suppose que la durée des vols ne dépasse pas 12 heures ). \n",
        "\n",
        "Écrire un programme qui, à partir de l’heure de départ et de la durée du vol, exprimées en heures et minutes et demandées à l'utilisateur, indique si l’arrivée a lieu le jour même ou le lendemain, ainsi que l’heure et la minute d’arrivée."
      ],
      "metadata": {
        "id": "65F1rYoj67RU"
      }
    },
    {
      "cell_type": "code",
      "source": [
        "#Écrivez votre code ici"
      ],
      "metadata": {
        "id": "9K161JtX6qWv"
      },
      "execution_count": null,
      "outputs": []
    },
    {
      "cell_type": "markdown",
      "source": [
        "#### <font color=#CCFF66>Exercice 3 : Calcul du salaire</font> "
      ],
      "metadata": {
        "id": "6FmFEL5A6vvg"
      }
    },
    {
      "cell_type": "markdown",
      "source": [
        "Écrire un programme calculant le salaire brut hebdomadaire d’un employé à partir du nombre d'heure ```N``` demandé à l'utilisateur et sachant que : \n",
        "* le taux horaire TH est applicable aux heures normales (dans la limite de 35 heures) \n",
        "* un supplément de 50 % de ce taux horaire est applicable aux heures supplémentaires."
      ],
      "metadata": {
        "id": "ZmsvIAaG7Sll"
      }
    },
    {
      "cell_type": "code",
      "source": [
        "#Écrivez votre code ici\n",
        "TH = 30.0\n"
      ],
      "metadata": {
        "id": "xYSkkjNr6vvh"
      },
      "execution_count": null,
      "outputs": []
    }
  ]
}